{
 "cells": [
  {
   "cell_type": "code",
   "execution_count": 1,
   "id": "81ffd32d",
   "metadata": {},
   "outputs": [],
   "source": [
    "%matplotlib inline"
   ]
  },
  {
   "cell_type": "code",
   "execution_count": 2,
   "id": "f2608590",
   "metadata": {},
   "outputs": [],
   "source": [
    "import numpy as np\n",
    "import astropy.units as u\n",
    "from astropy.coordinates import SkyCoord\n",
    "from gammapy.irf import load_cta_irfs\n",
    "from gammapy.maps import WcsGeom, MapAxis\n",
    "from gammapy.modeling.models import (\n",
    "    PowerLawSpectralModel,\n",
    "    GaussianSpatialModel,\n",
    "    SkyModel,\n",
    "    Models,\n",
    "    FoVBackgroundModel,\n",
    ")\n",
    "from gammapy.makers import MapDatasetMaker, SafeMaskMaker\n",
    "from gammapy.modeling import Fit\n",
    "from gammapy.datasets import Datasets, MapDataset\n",
    "from gammapy.data import Observation, observatory_locations\n",
    "from regions import CircleSkyRegion\n",
    "from scipy.stats import chi2, norm\n",
    "\n",
    "import matplotlib.pyplot as plt\n",
    "from IPython.display import display\n",
    "from gammapy.analysis import Analysis, AnalysisConfig\n",
    "from gammapy.estimators import ExcessMapEstimator\n",
    "from gammapy.modeling import Fit\n",
    "from gammapy.catalog import CATALOG_REGISTRY, SourceCatalogHGPS\n"
   ]
  },
  {
   "cell_type": "code",
   "execution_count": 3,
   "id": "3aadebad",
   "metadata": {},
   "outputs": [
    {
     "name": "stdout",
     "output_type": "stream",
     "text": [
      "\n",
      "Gammapy package:\n",
      "\n",
      "\tversion                : 0.20.1     \n",
      "\tpath                   : D:\\Documents\\Miniconda\\envs\\gammapy-0.20.1\\lib\\site-packages\\gammapy \n",
      "\n"
     ]
    }
   ],
   "source": [
    "!gammapy info --no-envvar --no-dependencies --no-system"
   ]
  },
  {
   "cell_type": "code",
   "execution_count": 4,
   "id": "476b9f59",
   "metadata": {},
   "outputs": [
    {
     "name": "stdout",
     "output_type": "stream",
     "text": [
      "Registry\n",
      "--------\n",
      "\n",
      "SourceCatalogGammaCat: gamma-cat \n",
      "SourceCatalogHGPS    : hgps \n",
      "SourceCatalog2HWC    : 2hwc \n",
      "SourceCatalog3FGL    : 3fgl \n",
      "SourceCatalog4FGL    : 4fgl \n",
      "SourceCatalog2FHL    : 2fhl \n",
      "SourceCatalog3FHL    : 3fhl \n",
      "SourceCatalog3HWC    : 3hwc \n",
      "\n",
      "SkyModel\n",
      "\n",
      "  Name                      : HESS J1018-589 B\n",
      "  Datasets names            : None\n",
      "  Spectral model type       : PowerLawSpectralModel\n",
      "  Spatial  model type       : GaussianSpatialModel\n",
      "  Temporal model type       : \n",
      "  Parameters:\n",
      "    index                         :      2.196   +/-    0.09             \n",
      "    amplitude                     :   9.15e-14   +/- 1.1e-14 1 / (cm2 s TeV)\n",
      "    reference             (frozen):      2.742       TeV         \n",
      "    lon_0                         :    284.223   +/-    0.04 deg         \n",
      "    lat_0                         :     -1.772   +/-    0.03 deg         \n",
      "    sigma                         :      0.150   +/-    0.03 deg         \n",
      "    e                     (frozen):      0.000                   \n",
      "    phi                   (frozen):      0.000       deg         \n",
      "\n",
      "\n"
     ]
    }
   ],
   "source": [
    "print(CATALOG_REGISTRY)\n",
    "catalog=SourceCatalogHGPS()\n",
    "source = catalog[3]\n",
    "\n",
    "model = source.sky_model()\n",
    "print(model)"
   ]
  },
  {
   "cell_type": "code",
   "execution_count": 5,
   "id": "e11bc3d7",
   "metadata": {},
   "outputs": [
    {
     "name": "stderr",
     "output_type": "stream",
     "text": [
      "Invalid unit found in background table! Assuming (s-1 MeV-1 sr-1)\n"
     ]
    }
   ],
   "source": [
    "# Loading IRFs\n",
    "irfs = load_cta_irfs(\n",
    "    \"$GAMMAPY_DATA/cta-1dc/caldb/data/cta/1dc/bcf/South_z20_50h/irf_file.fits\"\n",
    ")"
   ]
  },
  {
   "cell_type": "code",
   "execution_count": 6,
   "id": "8328aed9",
   "metadata": {},
   "outputs": [],
   "source": [
    "# Define the observation parameters (typically the observation duration and the pointing position):\n",
    "livetime = 6.0 * u.hr\n",
    "pointing = SkyCoord(0, 0, unit=\"deg\", frame=\"galactic\")"
   ]
  },
  {
   "cell_type": "code",
   "execution_count": 7,
   "id": "94cfa673",
   "metadata": {},
   "outputs": [],
   "source": [
    "# Define map geometry for binned simulation\n",
    "energy_reco = MapAxis.from_edges(\n",
    "    np.logspace(-1.0, 1.0, 10), unit=\"TeV\", name=\"energy\", interp=\"log\"\n",
    ")\n",
    "geom = WcsGeom.create(\n",
    "    skydir=(0, 0),\n",
    "    binsz=0.02,\n",
    "    width=(6, 6),\n",
    "    frame=\"galactic\",\n",
    "    axes=[energy_reco],\n",
    ")\n",
    "# It is usually useful to have a separate binning for the true energy axis\n",
    "energy_true = MapAxis.from_edges(\n",
    "    np.logspace(-1.5, 1.5, 30), unit=\"TeV\", name=\"energy_true\", interp=\"log\"\n",
    ")\n",
    "\n",
    "empty = MapDataset.create(\n",
    "    geom, name=\"dataset-simu\", energy_axis_true=energy_true\n",
    ")"
   ]
  },
  {
   "cell_type": "code",
   "execution_count": 8,
   "id": "41a0381b",
   "metadata": {},
   "outputs": [
    {
     "name": "stdout",
     "output_type": "stream",
     "text": [
      "Observation\n",
      "\n",
      "\tobs id            : 0 \n",
      " \ttstart            : 51544.00\n",
      "\ttstop             : 51544.25\n",
      "\tduration          : 21600.00 s\n",
      "\tpointing (icrs)   : 266.4 deg, -28.9 deg\n",
      "\n",
      "\tdeadtime fraction : 0.0%\n",
      "\n"
     ]
    }
   ],
   "source": [
    "# Create an in-memory observation\n",
    "location = observatory_locations[\"cta_south\"]\n",
    "obs = Observation.create(\n",
    "    pointing=pointing, livetime=livetime, irfs=irfs, location=location\n",
    ")\n",
    "print(obs)"
   ]
  },
  {
   "cell_type": "code",
   "execution_count": 9,
   "id": "4f3d7e53",
   "metadata": {},
   "outputs": [],
   "source": [
    "# Make the MapDataset\n",
    "maker = MapDatasetMaker(selection=[\"exposure\", \"background\", \"psf\", \"edisp\"])\n",
    "\n",
    "maker_safe_mask = SafeMaskMaker(methods=[\"offset-max\"], offset_max=4.0 * u.deg)\n"
   ]
  },
  {
   "cell_type": "code",
   "execution_count": 16,
   "id": "58559107",
   "metadata": {},
   "outputs": [],
   "source": [
    "def simulate_range():\n",
    "    list=[]\n",
    "    \n",
    "    spectral_model=PowerLawSpectralModel(\n",
    "        amplitude=\"1e-12 cm-2 s-1 TeV-1\", index=2, reference=\"1 TeV\"\n",
    "    )\n",
    "    spatial_model=GaussianSpatialModel(\n",
    "        lon_0=\"0.4 deg\", lat_0=\"-0.6 deg\", frame=\"galactic\"  \n",
    "    )\n",
    "    spatial_model.lon_0.min = spatial_model.lon_0.value - 0.5\n",
    "    spatial_model.lon_0.max = spatial_model.lon_0.value + 0.5\n",
    "    spatial_model.lat_0.min = spatial_model.lat_0.value - 0.5\n",
    "    spatial_model.lat_0.max = spatial_model.lat_0.value + 0.5\n",
    "    for rad in [0.3,0.4,0.5]:\n",
    "        spatial_model.sigma.value=rad\n",
    "        model = SkyModel(spectral_model, spatial_model)\n",
    "        list.append(model)\n",
    "    return list"
   ]
  },
  {
   "cell_type": "code",
   "execution_count": 17,
   "id": "678e3a3e",
   "metadata": {},
   "outputs": [],
   "source": [
    "list=simulate_range()"
   ]
  },
  {
   "cell_type": "code",
   "execution_count": 18,
   "id": "255ffcd8",
   "metadata": {},
   "outputs": [],
   "source": [
    "def fit_dataset(model,vary_bkg=False):\n",
    "    dataset = maker.run(empty, obs)\n",
    "    dataset = maker_safe_mask.run(dataset, obs)\n",
    " \n",
    "    bkg_model = FoVBackgroundModel(dataset_name=\"dataset-simu\")\n",
    "    if vary_bkg==True:\n",
    "        bkg_model.spectral_model.norm.value = np.random.normal(1,0.1)\n",
    "        bkg_model.spectral_model.tilt.value = np.random.normal(0,0.05)\n",
    "        \n",
    "    dataset.models = bkg_model\n",
    "    dataset.fake()\n",
    "    fit = Fit(optimize_opts={\"print_level\": 1})\n",
    "    result = fit.run(datasets=dataset)\n",
    "    L0 = result.total_stat\n",
    "    print(L0)\n",
    "   \n",
    "    dataset.models = Models([bkg_model, model])\n",
    "    dataset.fake()\n",
    "    fit = Fit(optimize_opts={\"print_level\": 1})\n",
    "    result = fit.run(datasets=dataset)\n",
    "    L1 = result.total_stat\n",
    "    print(L1)\n",
    "    return L0-L1, result"
   ]
  },
  {
   "cell_type": "code",
   "execution_count": 19,
   "id": "9606f600",
   "metadata": {},
   "outputs": [
    {
     "name": "stdout",
     "output_type": "stream",
     "text": [
      "613077.5892285891\n",
      "W VariableMetricBuilder No improvement in line search\n",
      "W VariableMetricBuilder Machine accuracy limits further improvement\n",
      "W VariableMetricBuilder Reached machine accuracy limit; Edm 0.000451875 is smaller than machine limit 0.0367216 while 0.0002 was requested\n",
      "616086.9796324223\n",
      "610256.1920186501\n",
      "W VariableMetricBuilder Reached machine accuracy limit; Edm 0.000534219 is smaller than machine limit 0.0366899 while 0.0002 was requested\n",
      "615554.0973930883\n",
      "613345.0758871776\n",
      "W VariableMetricBuilder Reached machine accuracy limit; Edm 0.000428514 is smaller than machine limit 0.0366051 while 0.0002 was requested\n",
      "614130.8774973662\n"
     ]
    }
   ],
   "source": [
    "list2=[]\n",
    "\n",
    "for i in range(len(list)):\n",
    "    list2.append(fit_dataset(list[i],vary_bkg=False)[0])"
   ]
  },
  {
   "cell_type": "code",
   "execution_count": 22,
   "id": "786d182d",
   "metadata": {},
   "outputs": [
    {
     "name": "stdout",
     "output_type": "stream",
     "text": [
      "[0.0, 0.0, 0.0]\n"
     ]
    }
   ],
   "source": [
    "sigma=[]\n",
    "def sigma_to_ts(sigma, df=1):\n",
    "    \"\"\"Convert sigma to delta ts\"\"\"\n",
    "    p_value = 2 * norm.sf(sigma)\n",
    "    return chi2.isf(p_value, df=df)\n",
    "\n",
    "def ts_to_sigma(ts, df=1):\n",
    "    \"\"\"Convert delta ts to sigma\"\"\"\n",
    "    p_value = chi2.sf(ts, df=df)\n",
    "    return norm.isf(0.5 * p_value)\n",
    "for i in range(len(list2)):\n",
    "    sigma.append(ts_to_sigma(list2[i],6))\n",
    "print(sigma)"
   ]
  },
  {
   "cell_type": "code",
   "execution_count": null,
   "id": "915daf89",
   "metadata": {},
   "outputs": [],
   "source": []
  }
 ],
 "metadata": {
  "kernelspec": {
   "display_name": "Python 3 (ipykernel)",
   "language": "python",
   "name": "python3"
  },
  "language_info": {
   "codemirror_mode": {
    "name": "ipython",
    "version": 3
   },
   "file_extension": ".py",
   "mimetype": "text/x-python",
   "name": "python",
   "nbconvert_exporter": "python",
   "pygments_lexer": "ipython3",
   "version": "3.8.16"
  },
  "latex_envs": {
   "LaTeX_envs_menu_present": true,
   "autoclose": false,
   "autocomplete": true,
   "bibliofile": "biblio.bib",
   "cite_by": "apalike",
   "current_citInitial": 1,
   "eqLabelWithNumbers": true,
   "eqNumInitial": 1,
   "hotkeys": {
    "equation": "Ctrl-E",
    "itemize": "Ctrl-I"
   },
   "labels_anchors": false,
   "latex_user_defs": false,
   "report_style_numbering": false,
   "user_envs_cfg": false
  },
  "widgets": {
   "application/vnd.jupyter.widget-state+json": {
    "state": {
     "3cf9799567f44cc2a06127e22b70907d": {
      "model_module": "@jupyter-widgets/controls",
      "model_module_version": "1.5.0",
      "model_name": "DescriptionStyleModel",
      "state": {
       "_model_module": "@jupyter-widgets/controls",
       "_model_module_version": "1.5.0",
       "_model_name": "DescriptionStyleModel",
       "_view_count": null,
       "_view_module": "@jupyter-widgets/base",
       "_view_module_version": "1.2.0",
       "_view_name": "StyleView",
       "description_width": "initial"
      }
     },
     "402b67fa28c64e9086bdb1c31145d7af": {
      "model_module": "@jupyter-widgets/controls",
      "model_module_version": "1.5.0",
      "model_name": "SelectionSliderModel",
      "state": {
       "_dom_classes": [],
       "_model_module": "@jupyter-widgets/controls",
       "_model_module_version": "1.5.0",
       "_model_name": "SelectionSliderModel",
       "_options_labels": [
        "1.00e-01 TeV - 1.67e-01 TeV TeV",
        "1.67e-01 TeV - 2.78e-01 TeV TeV",
        "2.78e-01 TeV - 4.64e-01 TeV TeV",
        "4.64e-01 TeV - 7.74e-01 TeV TeV",
        "7.74e-01 TeV - 1.29e+00 TeV TeV",
        "1.29e+00 TeV - 2.15e+00 TeV TeV",
        "2.15e+00 TeV - 3.59e+00 TeV TeV",
        "3.59e+00 TeV - 5.99e+00 TeV TeV",
        "5.99e+00 TeV - 1.00e+01 TeV TeV"
       ],
       "_view_count": null,
       "_view_module": "@jupyter-widgets/controls",
       "_view_module_version": "1.5.0",
       "_view_name": "SelectionSliderView",
       "continuous_update": false,
       "description": "Select energy:",
       "description_tooltip": null,
       "disabled": false,
       "index": 0,
       "layout": "IPY_MODEL_af4d5cf4a93b4c2aa9fd249e0ebea901",
       "orientation": "horizontal",
       "readout": true,
       "style": "IPY_MODEL_f2ed94b9874c42d6b6b9d91c91c5db74"
      }
     },
     "78a3fce2d5cb43f3b3624ea299a521c7": {
      "model_module": "@jupyter-widgets/base",
      "model_module_version": "1.2.0",
      "model_name": "LayoutModel",
      "state": {
       "_model_module": "@jupyter-widgets/base",
       "_model_module_version": "1.2.0",
       "_model_name": "LayoutModel",
       "_view_count": null,
       "_view_module": "@jupyter-widgets/base",
       "_view_module_version": "1.2.0",
       "_view_name": "LayoutView",
       "align_content": null,
       "align_items": null,
       "align_self": null,
       "border": null,
       "bottom": null,
       "display": null,
       "flex": null,
       "flex_flow": null,
       "grid_area": null,
       "grid_auto_columns": null,
       "grid_auto_flow": null,
       "grid_auto_rows": null,
       "grid_column": null,
       "grid_gap": null,
       "grid_row": null,
       "grid_template_areas": null,
       "grid_template_columns": null,
       "grid_template_rows": null,
       "height": null,
       "justify_content": null,
       "justify_items": null,
       "left": null,
       "margin": null,
       "max_height": null,
       "max_width": null,
       "min_height": null,
       "min_width": null,
       "object_fit": null,
       "object_position": null,
       "order": null,
       "overflow": null,
       "overflow_x": null,
       "overflow_y": null,
       "padding": null,
       "right": null,
       "top": null,
       "visibility": null,
       "width": null
      }
     },
     "8296ed54d25847ebbdbba978215b0c1d": {
      "model_module": "@jupyter-widgets/controls",
      "model_module_version": "1.5.0",
      "model_name": "VBoxModel",
      "state": {
       "_dom_classes": [
        "widget-interact"
       ],
       "_model_module": "@jupyter-widgets/controls",
       "_model_module_version": "1.5.0",
       "_model_name": "VBoxModel",
       "_view_count": null,
       "_view_module": "@jupyter-widgets/controls",
       "_view_module_version": "1.5.0",
       "_view_name": "VBoxView",
       "box_style": "",
       "children": [
        "IPY_MODEL_402b67fa28c64e9086bdb1c31145d7af",
        "IPY_MODEL_e541c5ee14324f0aa25a5f74db092f9f",
        "IPY_MODEL_c33bce30599e45b3bb658b7121b5e0f1"
       ],
       "layout": "IPY_MODEL_78a3fce2d5cb43f3b3624ea299a521c7"
      }
     },
     "86502265c1864ae78b320acebffa62bd": {
      "model_module": "@jupyter-widgets/base",
      "model_module_version": "1.2.0",
      "model_name": "LayoutModel",
      "state": {
       "_model_module": "@jupyter-widgets/base",
       "_model_module_version": "1.2.0",
       "_model_name": "LayoutModel",
       "_view_count": null,
       "_view_module": "@jupyter-widgets/base",
       "_view_module_version": "1.2.0",
       "_view_name": "LayoutView",
       "align_content": null,
       "align_items": null,
       "align_self": null,
       "border": null,
       "bottom": null,
       "display": null,
       "flex": null,
       "flex_flow": null,
       "grid_area": null,
       "grid_auto_columns": null,
       "grid_auto_flow": null,
       "grid_auto_rows": null,
       "grid_column": null,
       "grid_gap": null,
       "grid_row": null,
       "grid_template_areas": null,
       "grid_template_columns": null,
       "grid_template_rows": null,
       "height": null,
       "justify_content": null,
       "justify_items": null,
       "left": null,
       "margin": null,
       "max_height": null,
       "max_width": null,
       "min_height": null,
       "min_width": null,
       "object_fit": null,
       "object_position": null,
       "order": null,
       "overflow": null,
       "overflow_x": null,
       "overflow_y": null,
       "padding": null,
       "right": null,
       "top": null,
       "visibility": null,
       "width": null
      }
     },
     "ad8503b6c8494978874f7c11be4e77f8": {
      "model_module": "@jupyter-widgets/base",
      "model_module_version": "1.2.0",
      "model_name": "LayoutModel",
      "state": {
       "_model_module": "@jupyter-widgets/base",
       "_model_module_version": "1.2.0",
       "_model_name": "LayoutModel",
       "_view_count": null,
       "_view_module": "@jupyter-widgets/base",
       "_view_module_version": "1.2.0",
       "_view_name": "LayoutView",
       "align_content": null,
       "align_items": null,
       "align_self": null,
       "border": null,
       "bottom": null,
       "display": null,
       "flex": null,
       "flex_flow": null,
       "grid_area": null,
       "grid_auto_columns": null,
       "grid_auto_flow": null,
       "grid_auto_rows": null,
       "grid_column": null,
       "grid_gap": null,
       "grid_row": null,
       "grid_template_areas": null,
       "grid_template_columns": null,
       "grid_template_rows": null,
       "height": null,
       "justify_content": null,
       "justify_items": null,
       "left": null,
       "margin": null,
       "max_height": null,
       "max_width": null,
       "min_height": null,
       "min_width": null,
       "object_fit": null,
       "object_position": null,
       "order": null,
       "overflow": null,
       "overflow_x": null,
       "overflow_y": null,
       "padding": null,
       "right": null,
       "top": null,
       "visibility": null,
       "width": null
      }
     },
     "af4d5cf4a93b4c2aa9fd249e0ebea901": {
      "model_module": "@jupyter-widgets/base",
      "model_module_version": "1.2.0",
      "model_name": "LayoutModel",
      "state": {
       "_model_module": "@jupyter-widgets/base",
       "_model_module_version": "1.2.0",
       "_model_name": "LayoutModel",
       "_view_count": null,
       "_view_module": "@jupyter-widgets/base",
       "_view_module_version": "1.2.0",
       "_view_name": "LayoutView",
       "align_content": null,
       "align_items": null,
       "align_self": null,
       "border": null,
       "bottom": null,
       "display": null,
       "flex": null,
       "flex_flow": null,
       "grid_area": null,
       "grid_auto_columns": null,
       "grid_auto_flow": null,
       "grid_auto_rows": null,
       "grid_column": null,
       "grid_gap": null,
       "grid_row": null,
       "grid_template_areas": null,
       "grid_template_columns": null,
       "grid_template_rows": null,
       "height": null,
       "justify_content": null,
       "justify_items": null,
       "left": null,
       "margin": null,
       "max_height": null,
       "max_width": null,
       "min_height": null,
       "min_width": null,
       "object_fit": null,
       "object_position": null,
       "order": null,
       "overflow": null,
       "overflow_x": null,
       "overflow_y": null,
       "padding": null,
       "right": null,
       "top": null,
       "visibility": null,
       "width": "50%"
      }
     },
     "c33bce30599e45b3bb658b7121b5e0f1": {
      "model_module": "@jupyter-widgets/output",
      "model_module_version": "1.0.0",
      "model_name": "OutputModel",
      "state": {
       "_dom_classes": [],
       "_model_module": "@jupyter-widgets/output",
       "_model_module_version": "1.0.0",
       "_model_name": "OutputModel",
       "_view_count": null,
       "_view_module": "@jupyter-widgets/output",
       "_view_module_version": "1.0.0",
       "_view_name": "OutputView",
       "layout": "IPY_MODEL_86502265c1864ae78b320acebffa62bd",
       "msg_id": "",
       "outputs": []
      }
     },
     "e541c5ee14324f0aa25a5f74db092f9f": {
      "model_module": "@jupyter-widgets/controls",
      "model_module_version": "1.5.0",
      "model_name": "RadioButtonsModel",
      "state": {
       "_dom_classes": [],
       "_model_module": "@jupyter-widgets/controls",
       "_model_module_version": "1.5.0",
       "_model_name": "RadioButtonsModel",
       "_options_labels": [
        "linear",
        "sqrt",
        "log"
       ],
       "_view_count": null,
       "_view_module": "@jupyter-widgets/controls",
       "_view_module_version": "1.5.0",
       "_view_name": "RadioButtonsView",
       "description": "Select stretch:",
       "description_tooltip": null,
       "disabled": false,
       "index": 0,
       "layout": "IPY_MODEL_ad8503b6c8494978874f7c11be4e77f8",
       "style": "IPY_MODEL_3cf9799567f44cc2a06127e22b70907d"
      }
     },
     "f2ed94b9874c42d6b6b9d91c91c5db74": {
      "model_module": "@jupyter-widgets/controls",
      "model_module_version": "1.5.0",
      "model_name": "DescriptionStyleModel",
      "state": {
       "_model_module": "@jupyter-widgets/controls",
       "_model_module_version": "1.5.0",
       "_model_name": "DescriptionStyleModel",
       "_view_count": null,
       "_view_module": "@jupyter-widgets/base",
       "_view_module_version": "1.2.0",
       "_view_name": "StyleView",
       "description_width": "initial"
      }
     }
    },
    "version_major": 2,
    "version_minor": 0
   }
  }
 },
 "nbformat": 4,
 "nbformat_minor": 5
}
