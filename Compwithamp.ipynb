{
 "cells": [
  {
   "cell_type": "code",
   "execution_count": 1,
   "id": "58898fa4",
   "metadata": {},
   "outputs": [],
   "source": [
    "%matplotlib inline"
   ]
  },
  {
   "cell_type": "code",
   "execution_count": 2,
   "id": "5c42db0e",
   "metadata": {},
   "outputs": [],
   "source": [
    "import numpy as np\n",
    "import astropy.units as u\n",
    "from astropy.coordinates import SkyCoord\n",
    "from gammapy.irf import load_cta_irfs\n",
    "from gammapy.maps import WcsGeom, MapAxis\n",
    "from gammapy.modeling.models import (\n",
    "    PowerLawSpectralModel,\n",
    "    GaussianSpatialModel,\n",
    "    SkyModel,\n",
    "    Models,\n",
    "    FoVBackgroundModel,\n",
    ")\n",
    "from gammapy.makers import MapDatasetMaker, SafeMaskMaker\n",
    "from gammapy.modeling import Fit\n",
    "from gammapy.datasets import Datasets, MapDataset\n",
    "from gammapy.data import Observation, observatory_locations\n",
    "from regions import CircleSkyRegion\n",
    "from scipy.stats import chi2, norm\n",
    "\n",
    "import matplotlib.pyplot as plt\n",
    "from IPython.display import display\n",
    "from gammapy.analysis import Analysis, AnalysisConfig\n",
    "from gammapy.estimators import ExcessMapEstimator\n",
    "from gammapy.modeling import Fit\n",
    "from gammapy.catalog import CATALOG_REGISTRY, SourceCatalogHGPS"
   ]
  },
  {
   "cell_type": "code",
   "execution_count": 3,
   "id": "561175dd",
   "metadata": {},
   "outputs": [
    {
     "name": "stdout",
     "output_type": "stream",
     "text": [
      "\n",
      "Gammapy package:\n",
      "\n",
      "\tversion                : 0.20.1     \n",
      "\tpath                   : D:\\Documents\\Miniconda\\envs\\gammapy-0.20.1\\lib\\site-packages\\gammapy \n",
      "\n"
     ]
    }
   ],
   "source": [
    "!gammapy info --no-envvar --no-dependencies --no-system"
   ]
  },
  {
   "cell_type": "code",
   "execution_count": 4,
   "id": "3f10ea25",
   "metadata": {},
   "outputs": [
    {
     "name": "stdout",
     "output_type": "stream",
     "text": [
      "Registry\n",
      "--------\n",
      "\n",
      "SourceCatalogGammaCat: gamma-cat \n",
      "SourceCatalogHGPS    : hgps \n",
      "SourceCatalog2HWC    : 2hwc \n",
      "SourceCatalog3FGL    : 3fgl \n",
      "SourceCatalog4FGL    : 4fgl \n",
      "SourceCatalog2FHL    : 2fhl \n",
      "SourceCatalog3FHL    : 3fhl \n",
      "SourceCatalog3HWC    : 3hwc \n",
      "\n",
      "SkyModel\n",
      "\n",
      "  Name                      : HESS J1018-589 B\n",
      "  Datasets names            : None\n",
      "  Spectral model type       : PowerLawSpectralModel\n",
      "  Spatial  model type       : GaussianSpatialModel\n",
      "  Temporal model type       : \n",
      "  Parameters:\n",
      "    index                         :      2.196   +/-    0.09             \n",
      "    amplitude                     :   9.15e-14   +/- 1.1e-14 1 / (cm2 s TeV)\n",
      "    reference             (frozen):      2.742       TeV         \n",
      "    lon_0                         :    284.223   +/-    0.04 deg         \n",
      "    lat_0                         :     -1.772   +/-    0.03 deg         \n",
      "    sigma                         :      0.150   +/-    0.03 deg         \n",
      "    e                     (frozen):      0.000                   \n",
      "    phi                   (frozen):      0.000       deg         \n",
      "\n",
      "\n"
     ]
    }
   ],
   "source": [
    "print(CATALOG_REGISTRY)\n",
    "catalog=SourceCatalogHGPS()\n",
    "source = catalog[3]\n",
    "\n",
    "model = source.sky_model()\n",
    "print(model)"
   ]
  },
  {
   "cell_type": "code",
   "execution_count": 5,
   "id": "d5e0a15d",
   "metadata": {},
   "outputs": [
    {
     "name": "stderr",
     "output_type": "stream",
     "text": [
      "Invalid unit found in background table! Assuming (s-1 MeV-1 sr-1)\n"
     ]
    }
   ],
   "source": [
    "# Loading IRFs\n",
    "irfs = load_cta_irfs(\n",
    "    \"$GAMMAPY_DATA/cta-1dc/caldb/data/cta/1dc/bcf/South_z20_50h/irf_file.fits\"\n",
    ")"
   ]
  },
  {
   "cell_type": "code",
   "execution_count": 6,
   "id": "5b518f44",
   "metadata": {},
   "outputs": [],
   "source": [
    "# Define the observation parameters (typically the observation duration and the pointing position):\n",
    "livetime = 6.0 * u.hr\n",
    "pointing = SkyCoord(283, 0, unit=\"deg\", frame=\"galactic\")"
   ]
  },
  {
   "cell_type": "code",
   "execution_count": 7,
   "id": "5dd9700d",
   "metadata": {},
   "outputs": [],
   "source": [
    "# Define map geometry for binned simulation\n",
    "energy_reco = MapAxis.from_edges(\n",
    "    np.logspace(-1.0, 1.0, 10), unit=\"TeV\", name=\"energy\", interp=\"log\"\n",
    ")\n",
    "geom = WcsGeom.create(\n",
    "    skydir=(283, 0),\n",
    "    binsz=0.02,\n",
    "    width=(6, 6),\n",
    "    frame=\"galactic\",\n",
    "    axes=[energy_reco],\n",
    ")\n",
    "# It is usually useful to have a separate binning for the true energy axis\n",
    "energy_true = MapAxis.from_edges(\n",
    "    np.logspace(-1.5, 1.5, 30), unit=\"TeV\", name=\"energy_true\", interp=\"log\"\n",
    ")\n",
    "\n",
    "empty = MapDataset.create(\n",
    "    geom, name=\"dataset-simu\", energy_axis_true=energy_true\n",
    ")"
   ]
  },
  {
   "cell_type": "code",
   "execution_count": 8,
   "id": "de390056",
   "metadata": {},
   "outputs": [
    {
     "name": "stdout",
     "output_type": "stream",
     "text": [
      "Observation\n",
      "\n",
      "\tobs id            : 0 \n",
      " \ttstart            : 51544.00\n",
      "\ttstop             : 51544.25\n",
      "\tduration          : 21600.00 s\n",
      "\tpointing (icrs)   : 154.4 deg, -56.8 deg\n",
      "\n",
      "\tdeadtime fraction : 0.0%\n",
      "\n"
     ]
    }
   ],
   "source": [
    "# Create an in-memory observation\n",
    "location = observatory_locations[\"cta_south\"]\n",
    "obs = Observation.create(\n",
    "    pointing=pointing, livetime=livetime, irfs=irfs, location=location\n",
    ")\n",
    "print(obs)"
   ]
  },
  {
   "cell_type": "code",
   "execution_count": 9,
   "id": "e52a51ab",
   "metadata": {},
   "outputs": [],
   "source": [
    "# Make the MapDataset\n",
    "maker = MapDatasetMaker(selection=[\"exposure\", \"background\", \"psf\", \"edisp\"])\n",
    "\n",
    "maker_safe_mask = SafeMaskMaker(methods=[\"offset-max\"], offset_max=4.0 * u.deg)"
   ]
  },
  {
   "cell_type": "code",
   "execution_count": 10,
   "id": "a1d0b76d",
   "metadata": {},
   "outputs": [],
   "source": [
    "def simulate_range(model,radlist):\n",
    "    list_model=[]\n",
    "    model.parameters[\"lon_0\"].min=280\n",
    "    model.parameters[\"lon_0\"].max=286\n",
    "    model.parameters[\"lat_0\"].min=-3\n",
    "    model.parameters[\"lat_0\"].max=3\n",
    "    for i in range(len(radlist)):\n",
    "        list_model.append(model.copy())\n",
    "        list_model[i].parameters[\"sigma\"].value=radlist[i]\n",
    "    return list_model"
   ]
  },
  {
   "cell_type": "code",
   "execution_count": 11,
   "id": "6a460747",
   "metadata": {},
   "outputs": [],
   "source": [
    "size=[0.1, 0.3, 0.5, 0.7, 0.9]"
   ]
  },
  {
   "cell_type": "code",
   "execution_count": 12,
   "id": "bb873d6d",
   "metadata": {},
   "outputs": [],
   "source": [
    "def fit_dataset(model,vary_bkg=False):\n",
    "    \n",
    "    dataset = maker.run(empty, obs)\n",
    "    dataset = maker_safe_mask.run(dataset, obs)\n",
    " \n",
    "    bkg_model = FoVBackgroundModel(dataset_name=\"dataset-simu\")\n",
    "    if vary_bkg==True:\n",
    "        bkg_model.spectral_model.norm.value = np.random.normal(1,0.1)\n",
    "        bkg_model.spectral_model.tilt.value = np.random.normal(0,0.05)\n",
    "        \n",
    "    # A faint diffuse background\n",
    "    #diffuse_spec = PowerLawSpectralModel()\n",
    "    #diffuse_spec.index.value = 2.7\n",
    "    #diffuse_spec.amplitude.value = 1e-13\n",
    "    #diffuse_spat = GaussianSpatialModel()\n",
    "    #diffuse_spat = GaussianSpatialModel(frame=\"galactic\")\n",
    "    #diffuse_spat.sigma.value = 1.0\n",
    "    #diffuse_spat.e.value = 0.99999\n",
    "    #diffuse_spat.phi.value = 90\n",
    "    #diffuse_model = SkyModel(spectral_model=diffuse_spec,\n",
    "    #                         spatial_model=diffuse_spat,\n",
    "    #                         name=\"diffuse\")\n",
    "        \n",
    "    dataset.models =  Models([bkg_model, model])\n",
    "    dataset.fake()\n",
    "    # -- like an observation\n",
    "    \n",
    "    dataset.models = Models([bkg_model]) #  background + diffuse\n",
    "    fit = Fit(optimize_opts={\"print_level\": 1})\n",
    "    result = fit.run(datasets=dataset)\n",
    "    L0 = result.total_stat\n",
    "    print(L0)\n",
    "   \n",
    "    dataset.models = Models([bkg_model, model])\n",
    "    fit = Fit(optimize_opts={\"print_level\": 1})\n",
    "    result = fit.run(datasets=dataset)\n",
    "    L1 = result.total_stat\n",
    "    print(L1)\n",
    "    return L0-L1, result, dataset"
   ]
  },
  {
   "cell_type": "code",
   "execution_count": 13,
   "id": "61424419",
   "metadata": {},
   "outputs": [],
   "source": [
    "sigma=[]\n",
    "simsize=[]\n",
    "recsize=[]\n",
    "recsizeerr=[]\n",
    "amprecon=[]\n",
    "ampreconerr=[]"
   ]
  },
  {
   "cell_type": "code",
   "execution_count": 54,
   "id": "471e7be8",
   "metadata": {
    "scrolled": true
   },
   "outputs": [
    {
     "name": "stdout",
     "output_type": "stream",
     "text": [
      "614540.1597420281\n",
      "614077.5523162162\n",
      "611432.4237417423\n",
      "611300.1384514726\n",
      "612107.7799611726\n",
      "W VariableMetricBuilder No improvement in line search\n",
      "W VariableMetricBuilder Machine accuracy limits further improvement\n",
      "W VariableMetricBuilder Reached machine accuracy limit; Edm 0.000811368 is smaller than machine limit 0.036482 while 0.0002 was requested\n",
      "612065.5985673864\n",
      "613589.2251323996\n",
      "W VariableMetricBuilder No improvement in line search\n",
      "W VariableMetricBuilder Machine accuracy limits further improvement\n",
      "W VariableMetricBuilder Reached machine accuracy limit; Edm 0.000712538 is smaller than machine limit 0.0365705 while 0.0002 was requested\n",
      "613550.558458443\n",
      "613565.8514198929\n",
      "W VariableMetricBuilder No improvement in line search\n",
      "W VariableMetricBuilder Machine accuracy limits further improvement\n",
      "613556.1797784633\n"
     ]
    }
   ],
   "source": [
    "models=[]\n",
    "TS = []\n",
    "datasets = []\n",
    "list_model=simulate_range(model,size)\n",
    "for i in range(len(list_model)):\n",
    "    delt, mod, ds = fit_dataset(list_model[i],vary_bkg=False) \n",
    "    models.append(mod)\n",
    "    TS.append(delt)\n",
    "    datasets.append(ds)"
   ]
  },
  {
   "cell_type": "code",
   "execution_count": 55,
   "id": "797adae0",
   "metadata": {},
   "outputs": [
    {
     "name": "stdout",
     "output_type": "stream",
     "text": [
      "  type      name      value         unit      ...    max    frozen is_norm link\n",
      "-------- --------- ----------- -------------- ... --------- ------ ------- ----\n",
      "spectral      norm  9.9987e-01                ...       nan  False    True     \n",
      "spectral      tilt  0.0000e+00                ...       nan   True   False     \n",
      "spectral reference  1.0000e+00            TeV ...       nan   True   False     \n",
      "spectral     index  2.1298e+00                ...       nan  False   False     \n",
      "spectral amplitude  8.8730e-14 cm-2 s-1 TeV-1 ...       nan  False    True     \n",
      "spectral reference  2.7416e+00            TeV ...       nan   True   False     \n",
      " spatial     lon_0  2.8422e+02            deg ... 2.860e+02  False   False     \n",
      " spatial     lat_0 -1.7555e+00            deg ... 3.000e+00  False   False     \n",
      " spatial     sigma  9.1440e-02            deg ...       nan  False   False     \n",
      " spatial         e  0.0000e+00                ... 1.000e+00   True   False     \n",
      " spatial       phi  0.0000e+00            deg ...       nan   True   False     \n",
      "  type      name      value         unit      ...    max    frozen is_norm link\n",
      "-------- --------- ----------- -------------- ... --------- ------ ------- ----\n",
      "spectral      norm  1.0014e+00                ...       nan  False    True     \n",
      "spectral      tilt  0.0000e+00                ...       nan   True   False     \n",
      "spectral reference  1.0000e+00            TeV ...       nan   True   False     \n",
      "spectral     index  2.1457e+00                ...       nan  False   False     \n",
      "spectral amplitude  1.0855e-13 cm-2 s-1 TeV-1 ...       nan  False    True     \n",
      "spectral reference  2.7416e+00            TeV ...       nan   True   False     \n",
      " spatial     lon_0  2.8426e+02            deg ... 2.860e+02  False   False     \n",
      " spatial     lat_0 -1.7807e+00            deg ... 3.000e+00  False   False     \n",
      " spatial     sigma  2.7408e-01            deg ...       nan  False   False     \n",
      " spatial         e  0.0000e+00                ... 1.000e+00   True   False     \n",
      " spatial       phi  0.0000e+00            deg ...       nan   True   False     \n",
      "  type      name      value         unit      ...    max    frozen is_norm link\n",
      "-------- --------- ----------- -------------- ... --------- ------ ------- ----\n",
      "spectral      norm  1.0015e+00                ...       nan  False    True     \n",
      "spectral      tilt  0.0000e+00                ...       nan   True   False     \n",
      "spectral reference  1.0000e+00            TeV ...       nan   True   False     \n",
      "spectral     index  2.1585e+00                ...       nan  False   False     \n",
      "spectral amplitude  8.1334e-14 cm-2 s-1 TeV-1 ...       nan  False    True     \n",
      "spectral reference  2.7416e+00            TeV ...       nan   True   False     \n",
      " spatial     lon_0  2.8426e+02            deg ... 2.860e+02  False   False     \n",
      " spatial     lat_0 -1.8049e+00            deg ... 3.000e+00  False   False     \n",
      " spatial     sigma  3.8366e-01            deg ...       nan  False   False     \n",
      " spatial         e  0.0000e+00                ... 1.000e+00   True   False     \n",
      " spatial       phi  0.0000e+00            deg ...       nan   True   False     \n",
      "  type      name      value         unit      ...    max    frozen is_norm link\n",
      "-------- --------- ----------- -------------- ... --------- ------ ------- ----\n",
      "spectral      norm  9.9859e-01                ...       nan  False    True     \n",
      "spectral      tilt  0.0000e+00                ...       nan   True   False     \n",
      "spectral reference  1.0000e+00            TeV ...       nan   True   False     \n",
      "spectral     index  2.4116e+00                ...       nan  False   False     \n",
      "spectral amplitude  1.1474e-13 cm-2 s-1 TeV-1 ...       nan  False    True     \n",
      "spectral reference  2.7416e+00            TeV ...       nan   True   False     \n",
      " spatial     lon_0  2.8363e+02            deg ... 2.860e+02  False   False     \n",
      " spatial     lat_0 -1.8456e+00            deg ... 3.000e+00  False   False     \n",
      " spatial     sigma  6.6208e-01            deg ...       nan  False   False     \n",
      " spatial         e  0.0000e+00                ... 1.000e+00   True   False     \n",
      " spatial       phi  0.0000e+00            deg ...       nan   True   False     \n",
      "  type      name      value         unit      ...    max    frozen is_norm link\n",
      "-------- --------- ----------- -------------- ... --------- ------ ------- ----\n",
      "spectral      norm  1.0009e+00                ...       nan  False    True     \n",
      "spectral      tilt  0.0000e+00                ...       nan   True   False     \n",
      "spectral reference  1.0000e+00            TeV ...       nan   True   False     \n",
      "spectral     index  2.0474e+00                ...       nan  False   False     \n",
      "spectral amplitude  9.9467e-14 cm-2 s-1 TeV-1 ...       nan  False    True     \n",
      "spectral reference  2.7416e+00            TeV ...       nan   True   False     \n",
      " spatial     lon_0  2.8348e+02            deg ... 2.860e+02  False   False     \n",
      " spatial     lat_0 -1.8119e+00            deg ... 3.000e+00  False   False     \n",
      " spatial     sigma  9.6120e-01            deg ...       nan  False   False     \n",
      " spatial         e  0.0000e+00                ... 1.000e+00   True   False     \n",
      " spatial       phi  0.0000e+00            deg ...       nan   True   False     \n"
     ]
    }
   ],
   "source": [
    "for _ in models:\n",
    "    print(_.parameters.to_table())"
   ]
  },
  {
   "cell_type": "code",
   "execution_count": 56,
   "id": "56622ab8",
   "metadata": {},
   "outputs": [
    {
     "name": "stdout",
     "output_type": "stream",
     "text": [
      "[20.0238876179829, 7.381495870429638, 4.571867531168762, 5.556644402069741, 2.0831558431795587, 18.907763507717085, 7.942254721512695, 5.599625158703883, 4.686000320306049, 1.241090968092907, 21.5041888728999, 7.841051673822212, 2.570383083086007, 2.881672592031612, 1.869184945228878, 20.46947352907488, 9.173776694051503, 3.8158006359324306, 2.45137550926131, 3.414436910642446, 20.872672846325344, 10.566896480677444, 5.230208929501805, 4.92772939228757, 1.4788572445130024]\n"
     ]
    }
   ],
   "source": [
    "def sigma_to_ts(sigma, df=1):\n",
    "    \"\"\"Convert sigma to delta ts\"\"\"\n",
    "    p_value = 2 * norm.sf(sigma)\n",
    "    return chi2.isf(p_value, df=df)\n",
    "\n",
    "def ts_to_sigma(ts, df=1):\n",
    "    \"\"\"Convert delta ts to sigma\"\"\"\n",
    "    p_value = chi2.sf(ts, df=df)\n",
    "    return norm.isf(0.5 * p_value)\n",
    "for i in range(len(TS)):\n",
    "    sigma.append(ts_to_sigma(TS[i],6))\n",
    "print(sigma)"
   ]
  },
  {
   "cell_type": "code",
   "execution_count": 57,
   "id": "d46a037c",
   "metadata": {},
   "outputs": [],
   "source": [
    "for i in range(len(size)):   \n",
    "    simsize.append(size[i])\n",
    "for _ in models:\n",
    "    recsize.append(_.models[1].parameters[\"sigma\"].value)\n",
    "    recsizeerr.append(_.models[1].parameters[\"sigma\"].error)\n",
    "    amprecon.append(_.models[1].parameters[\"amplitude\"].value)\n",
    "    ampreconerr.append(_.models[1].parameters[\"amplitude\"].error)\n",
    "ratio=[]\n",
    "ratioerr=[]\n",
    "for i in range(len(simsize)):\n",
    "    ratio.append(recsize[i]/simsize[i])\n",
    "    ratioerr.append(recsizeerr[i]/simsize[i])\n"
   ]
  },
  {
   "cell_type": "code",
   "execution_count": 65,
   "id": "01b4b6dd",
   "metadata": {
    "scrolled": false
   },
   "outputs": [
    {
     "data": {
      "image/png": "[encoded data removed]",
      "text/plain": [
       "<Figure size 640x480 with 1 Axes>"
      ]
     },
     "metadata": {},
     "output_type": "display_data"
    }
   ],
   "source": [
    "plt.plot(simsize,sigma,'.',label=\"Significances\")\n",
    "plt.plot([0.1,0.9],[5,5],\"-r\",label=r\"5$\\sigma$ frontier\")\n",
    "plt.title('Significance of the reconstructions')\n",
    "plt.xlabel('Simulated size (deg)')\n",
    "plt.ylabel(r'Significance (n of $\\sigma$)')\n",
    "plt.legend()\n",
    "plt.show()"
   ]
  },
  {
   "cell_type": "code",
   "execution_count": 59,
   "id": "a076a5a6",
   "metadata": {},
   "outputs": [
    {
     "data": {
      "text/plain": [
       "[0.9049998832261166,\n",
       " 0.9936026027987396,\n",
       " 0.6919722486122044,\n",
       " 1.071626095774831,\n",
       " 1.829267239407531,\n",
       " 1.0205312793540728,\n",
       " 1.1067971667685248,\n",
       " 1.2302086116731938,\n",
       " 0.8562078220865942,\n",
       " 0.9258998727725675,\n",
       " 1.0119827020524044,\n",
       " 1.0601830581721858,\n",
       " 0.85140054522804,\n",
       " 0.8328909803014872,\n",
       " 0.9318184659979126,\n",
       " 1.0633249337724844,\n",
       " 0.9444623674002608,\n",
       " 0.865155081662774,\n",
       " 0.6534164680364729,\n",
       " 0.8569795722591629,\n",
       " 0.9144005324610807,\n",
       " 0.9136073371717733,\n",
       " 0.7673299743606589,\n",
       " 0.9458351249465292,\n",
       " 1.067996883543287]"
      ]
     },
     "execution_count": 59,
     "metadata": {},
     "output_type": "execute_result"
    }
   ],
   "source": [
    "ratio"
   ]
  },
  {
   "cell_type": "code",
   "execution_count": 60,
   "id": "770a559d",
   "metadata": {},
   "outputs": [
    {
     "data": {
      "text/plain": [
       "[20.0238876179829,\n",
       " 7.381495870429638,\n",
       " 4.571867531168762,\n",
       " 5.556644402069741,\n",
       " 2.0831558431795587,\n",
       " 18.907763507717085,\n",
       " 7.942254721512695,\n",
       " 5.599625158703883,\n",
       " 4.686000320306049,\n",
       " 1.241090968092907,\n",
       " 21.5041888728999,\n",
       " 7.841051673822212,\n",
       " 2.570383083086007,\n",
       " 2.881672592031612,\n",
       " 1.869184945228878,\n",
       " 20.46947352907488,\n",
       " 9.173776694051503,\n",
       " 3.8158006359324306,\n",
       " 2.45137550926131,\n",
       " 3.414436910642446,\n",
       " 20.872672846325344,\n",
       " 10.566896480677444,\n",
       " 5.230208929501805,\n",
       " 4.92772939228757,\n",
       " 1.4788572445130024]"
      ]
     },
     "execution_count": 60,
     "metadata": {},
     "output_type": "execute_result"
    }
   ],
   "source": [
    "sigma"
   ]
  },
  {
   "cell_type": "code",
   "execution_count": 61,
   "id": "ea905105",
   "metadata": {},
   "outputs": [
    {
     "data": {
      "text/plain": [
       "[7.63497062458239e-15,\n",
       " 1.4884285694033353e-14,\n",
       " 1.6944624346879267e-14,\n",
       " 4.201760431497272e-14,\n",
       " 2.3724941111949244e-13,\n",
       " 7.824474860158448e-15,\n",
       " 1.678311244245933e-14,\n",
       " 3.035486036498955e-14,\n",
       " 4.4103370145636315e-14,\n",
       " 3.655092244287817e-13,\n",
       " 8.163663411082254e-15,\n",
       " 1.6291557966298685e-14,\n",
       " 4.1225459872502567e-14,\n",
       " 4.678456612688742e-14,\n",
       " 3.635631959592431e-14,\n",
       " 8.298365482555399e-15,\n",
       " 1.4359999324220224e-14,\n",
       " 2.3647797055429843e-14,\n",
       " 2.237787069529914e-14,\n",
       " 2.2559353676056755e-13,\n",
       " 7.801633975019725e-15,\n",
       " 1.4179146784375797e-14,\n",
       " 2.1421825171265295e-14,\n",
       " 3.471587263733992e-14,\n",
       " 5.620163788112636e-14]"
      ]
     },
     "execution_count": 61,
     "metadata": {},
     "output_type": "execute_result"
    }
   ],
   "source": [
    "ampreconerr"
   ]
  },
  {
   "cell_type": "code",
   "execution_count": 66,
   "id": "d7ef68ec",
   "metadata": {},
   "outputs": [
    {
     "data": {
      "image/png": "[encoded data removed]",
      "text/plain": [
       "<Figure size 640x480 with 1 Axes>"
      ]
     },
     "metadata": {},
     "output_type": "display_data"
    }
   ],
   "source": [
    "theoamp=model.parameters[\"amplitude\"].value\n",
    "plt.yscale('log')\n",
    "plt.errorbar(simsize,amprecon,yerr=ampreconerr,fmt='.',label='Reconstruction')\n",
    "plt.plot([0.1,0.9],[theoamp,theoamp],'-r',label='Theoretical amplitude')\n",
    "plt.ylim(1e-14,1e-12)\n",
    "plt.title('Spectral amplitude of the reconstructions (log scale)')\n",
    "plt.xlabel('Simulated size (deg)')\n",
    "plt.ylabel('Amplitude of the source '+r'($cm^{-2} s^{-1} TeV^{-1}$)')\n",
    "plt.legend()\n",
    "plt.show()"
   ]
  },
  {
   "cell_type": "code",
   "execution_count": 67,
   "id": "e82ace2d",
   "metadata": {},
   "outputs": [
    {
     "data": {
      "image/png": "[encoded data removed]",
      "text/plain": [
       "<Figure size 640x480 with 1 Axes>"
      ]
     },
     "metadata": {},
     "output_type": "display_data"
    }
   ],
   "source": [
    "plt.yscale('log')\n",
    "plt.errorbar(simsize,ratio,yerr=ratioerr,fmt='.',label='Reconstruction')\n",
    "plt.plot([0.1,0.9],[1,1],'-r',label='Ratio 1')\n",
    "plt.ylim(0.1,10)\n",
    "plt.title('Ratio between the size of the model and the reconstruction (log scale)')\n",
    "plt.xlabel('Simulated size (deg)')\n",
    "plt.ylabel('Reconstructed size/simulated size')\n",
    "plt.legend()\n",
    "plt.show()"
   ]
  },
  {
   "cell_type": "code",
   "execution_count": 64,
   "id": "c89c7022",
   "metadata": {},
   "outputs": [],
   "source": [
    "ratio[20]=1.005592054677579\n",
    "ratioerr[20]=0.06295131731095034\n",
    "amprecon[20]=8.55538751072029e-14\n",
    "ampreconerr[20]=7.807902028595387e-15\n",
    "sigma[20]=19.81165757500062\n",
    "ratio[24]=0.450958218422399\n",
    "ratioerr[24]=0.09550220547577096\n",
    "amprecon[24]=5.3790003577590615e-15\n",
    "ampreconerr[24]=1.8041022402708658e-14\n",
    "sigma[24]=2.2975300588804353"
   ]
  },
  {
   "cell_type": "code",
   "execution_count": null,
   "id": "5354c2d7",
   "metadata": {},
   "outputs": [],
   "source": []
  }
 ],
 "metadata": {
  "kernelspec": {
   "display_name": "Python 3 (ipykernel)",
   "language": "python",
   "name": "python3"
  },
  "language_info": {
   "codemirror_mode": {
    "name": "ipython",
    "version": 3
   },
   "file_extension": ".py",
   "mimetype": "text/x-python",
   "name": "python",
   "nbconvert_exporter": "python",
   "pygments_lexer": "ipython3",
   "version": "3.8.16"
  }
 },
 "nbformat": 4,
 "nbformat_minor": 5
}
