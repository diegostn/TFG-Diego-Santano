{
 "cells": [
  {
   "cell_type": "code",
   "execution_count": 1,
   "id": "58898fa4",
   "metadata": {},
   "outputs": [],
   "source": [
    "%matplotlib inline"
   ]
  },
  {
   "cell_type": "code",
   "execution_count": 2,
   "id": "5c42db0e",
   "metadata": {},
   "outputs": [],
   "source": [
    "import numpy as np\n",
    "import astropy.units as u\n",
    "from astropy.coordinates import SkyCoord\n",
    "from gammapy.irf import load_cta_irfs\n",
    "from gammapy.maps import WcsGeom, MapAxis\n",
    "from gammapy.modeling.models import (\n",
    "    PowerLawSpectralModel,\n",
    "    GaussianSpatialModel,\n",
    "    SkyModel,\n",
    "    Models,\n",
    "    FoVBackgroundModel,\n",
    ")\n",
    "from gammapy.makers import MapDatasetMaker, SafeMaskMaker\n",
    "from gammapy.modeling import Fit\n",
    "from gammapy.datasets import Datasets, MapDataset\n",
    "from gammapy.data import Observation, observatory_locations\n",
    "from regions import CircleSkyRegion\n",
    "from scipy.stats import chi2, norm\n",
    "\n",
    "import matplotlib.pyplot as plt\n",
    "from IPython.display import display\n",
    "from gammapy.analysis import Analysis, AnalysisConfig\n",
    "from gammapy.estimators import ExcessMapEstimator\n",
    "from gammapy.modeling import Fit\n",
    "from gammapy.catalog import CATALOG_REGISTRY, SourceCatalogHGPS"
   ]
  },
  {
   "cell_type": "code",
   "execution_count": 3,
   "id": "561175dd",
   "metadata": {},
   "outputs": [
    {
     "name": "stdout",
     "output_type": "stream",
     "text": [
      "\n",
      "Gammapy package:\n",
      "\n",
      "\tversion                : 0.20.1     \n",
      "\tpath                   : D:\\Documents\\Miniconda\\envs\\gammapy-0.20.1\\lib\\site-packages\\gammapy \n",
      "\n"
     ]
    }
   ],
   "source": [
    "!gammapy info --no-envvar --no-dependencies --no-system"
   ]
  },
  {
   "cell_type": "code",
   "execution_count": 4,
   "id": "3f10ea25",
   "metadata": {},
   "outputs": [
    {
     "name": "stdout",
     "output_type": "stream",
     "text": [
      "Registry\n",
      "--------\n",
      "\n",
      "SourceCatalogGammaCat: gamma-cat \n",
      "SourceCatalogHGPS    : hgps \n",
      "SourceCatalog2HWC    : 2hwc \n",
      "SourceCatalog3FGL    : 3fgl \n",
      "SourceCatalog4FGL    : 4fgl \n",
      "SourceCatalog2FHL    : 2fhl \n",
      "SourceCatalog3FHL    : 3fhl \n",
      "SourceCatalog3HWC    : 3hwc \n",
      "\n",
      "SkyModel\n",
      "\n",
      "  Name                      : HESS J1018-589 B\n",
      "  Datasets names            : None\n",
      "  Spectral model type       : PowerLawSpectralModel\n",
      "  Spatial  model type       : GaussianSpatialModel\n",
      "  Temporal model type       : \n",
      "  Parameters:\n",
      "    index                         :      2.196   +/-    0.09             \n",
      "    amplitude                     :   9.15e-14   +/- 1.1e-14 1 / (cm2 s TeV)\n",
      "    reference             (frozen):      2.742       TeV         \n",
      "    lon_0                         :    284.223   +/-    0.04 deg         \n",
      "    lat_0                         :     -1.772   +/-    0.03 deg         \n",
      "    sigma                         :      0.150   +/-    0.03 deg         \n",
      "    e                     (frozen):      0.000                   \n",
      "    phi                   (frozen):      0.000       deg         \n",
      "\n",
      "\n"
     ]
    }
   ],
   "source": [
    "print(CATALOG_REGISTRY)\n",
    "catalog=SourceCatalogHGPS()\n",
    "source = catalog[3]\n",
    "\n",
    "model = source.sky_model()\n",
    "print(model)"
   ]
  },
  {
   "cell_type": "code",
   "execution_count": 5,
   "id": "d5e0a15d",
   "metadata": {},
   "outputs": [
    {
     "name": "stderr",
     "output_type": "stream",
     "text": [
      "Invalid unit found in background table! Assuming (s-1 MeV-1 sr-1)\n"
     ]
    }
   ],
   "source": [
    "# Loading IRFs\n",
    "irfs = load_cta_irfs(\n",
    "    \"$GAMMAPY_DATA/cta-1dc/caldb/data/cta/1dc/bcf/South_z20_50h/irf_file.fits\"\n",
    ")"
   ]
  },
  {
   "cell_type": "code",
   "execution_count": 6,
   "id": "5b518f44",
   "metadata": {},
   "outputs": [],
   "source": [
    "# Define the observation parameters (typically the observation duration and the pointing position):\n",
    "livetime = 6.0 * u.hr\n",
    "pointing = SkyCoord(0, 0, unit=\"deg\", frame=\"galactic\")"
   ]
  },
  {
   "cell_type": "code",
   "execution_count": 7,
   "id": "5dd9700d",
   "metadata": {},
   "outputs": [],
   "source": [
    "# Define map geometry for binned simulation\n",
    "energy_reco = MapAxis.from_edges(\n",
    "    np.logspace(-1.0, 1.0, 10), unit=\"TeV\", name=\"energy\", interp=\"log\"\n",
    ")\n",
    "geom = WcsGeom.create(\n",
    "    skydir=(0, 0),\n",
    "    binsz=0.02,\n",
    "    width=(6, 6),\n",
    "    frame=\"galactic\",\n",
    "    axes=[energy_reco],\n",
    ")\n",
    "# It is usually useful to have a separate binning for the true energy axis\n",
    "energy_true = MapAxis.from_edges(\n",
    "    np.logspace(-1.5, 1.5, 30), unit=\"TeV\", name=\"energy_true\", interp=\"log\"\n",
    ")\n",
    "\n",
    "empty = MapDataset.create(\n",
    "    geom, name=\"dataset-simu\", energy_axis_true=energy_true\n",
    ")"
   ]
  },
  {
   "cell_type": "code",
   "execution_count": 8,
   "id": "de390056",
   "metadata": {},
   "outputs": [
    {
     "name": "stdout",
     "output_type": "stream",
     "text": [
      "Observation\n",
      "\n",
      "\tobs id            : 0 \n",
      " \ttstart            : 51544.00\n",
      "\ttstop             : 51544.25\n",
      "\tduration          : 21600.00 s\n",
      "\tpointing (icrs)   : 266.4 deg, -28.9 deg\n",
      "\n",
      "\tdeadtime fraction : 0.0%\n",
      "\n"
     ]
    }
   ],
   "source": [
    "# Create an in-memory observation\n",
    "location = observatory_locations[\"cta_south\"]\n",
    "obs = Observation.create(\n",
    "    pointing=pointing, livetime=livetime, irfs=irfs, location=location\n",
    ")\n",
    "print(obs)"
   ]
  },
  {
   "cell_type": "code",
   "execution_count": 9,
   "id": "e52a51ab",
   "metadata": {},
   "outputs": [],
   "source": [
    "# Make the MapDataset\n",
    "maker = MapDatasetMaker(selection=[\"exposure\", \"background\", \"psf\", \"edisp\"])\n",
    "\n",
    "maker_safe_mask = SafeMaskMaker(methods=[\"offset-max\"], offset_max=4.0 * u.deg)"
   ]
  },
  {
   "cell_type": "code",
   "execution_count": 10,
   "id": "a1d0b76d",
   "metadata": {},
   "outputs": [],
   "source": [
    "def simulate_range(radlist):\n",
    "    list_model=[]\n",
    "    spatialmodellist=[]\n",
    "    \n",
    "    spectral_model=PowerLawSpectralModel(\n",
    "        amplitude=\"1e-12 cm-2 s-1 TeV-1\", index=2, reference=\"1 TeV\"\n",
    "    )\n",
    "    spatial_model=GaussianSpatialModel(\n",
    "        lon_0=\"0.4 deg\", lat_0=\"-0.6 deg\", frame=\"galactic\"  \n",
    "    )\n",
    "    spatial_model.lon_0.min = spatial_model.lon_0.value - 0.5\n",
    "    spatial_model.lon_0.max = spatial_model.lon_0.value + 0.5\n",
    "    spatial_model.lat_0.min = spatial_model.lat_0.value - 0.5\n",
    "    spatial_model.lat_0.max = spatial_model.lat_0.value + 0.5\n",
    "    for i in range(len(radlist)):\n",
    "        spatialmodellist.append(spatial_model.copy())\n",
    "        spatialmodellist[i].sigma.value=radlist[i]\n",
    "        model = SkyModel(spectral_model, spatialmodellist[i])\n",
    "        list_model.append(model)\n",
    "    return list_model"
   ]
  },
  {
   "cell_type": "code",
   "execution_count": 11,
   "id": "6a460747",
   "metadata": {},
   "outputs": [],
   "source": [
    "list_model=simulate_range([0.1, 0.2, 0.3, 0.4, 0.5])"
   ]
  },
  {
   "cell_type": "code",
   "execution_count": 12,
   "id": "effe944c",
   "metadata": {},
   "outputs": [
    {
     "name": "stdout",
     "output_type": "stream",
     "text": [
      "SkyModel\n",
      "\n",
      "  Name                      : kHHvUcxR\n",
      "  Datasets names            : None\n",
      "  Spectral model type       : PowerLawSpectralModel\n",
      "  Spatial  model type       : GaussianSpatialModel\n",
      "  Temporal model type       : \n",
      "  Parameters:\n",
      "    index                         :      2.000   +/-    0.00             \n",
      "    amplitude                     :   1.00e-12   +/- 0.0e+00 1 / (cm2 s TeV)\n",
      "    reference             (frozen):      1.000       TeV         \n",
      "    lon_0                         :      0.400   +/-    0.00 deg         \n",
      "    lat_0                         :     -0.600   +/-    0.00 deg         \n",
      "    sigma                         :      0.300   +/-    0.00 deg         \n",
      "    e                     (frozen):      0.000                   \n",
      "    phi                   (frozen):      0.000       deg         \n",
      "\n",
      "\n"
     ]
    }
   ],
   "source": [
    "print(list_model[2])"
   ]
  },
  {
   "cell_type": "code",
   "execution_count": 13,
   "id": "bb873d6d",
   "metadata": {},
   "outputs": [],
   "source": [
    "def fit_dataset(model,vary_bkg=False):\n",
    "    \n",
    "    dataset = maker.run(empty, obs)\n",
    "    dataset = maker_safe_mask.run(dataset, obs)\n",
    " \n",
    "    bkg_model = FoVBackgroundModel(dataset_name=\"dataset-simu\")\n",
    "    if vary_bkg==True:\n",
    "        bkg_model.spectral_model.norm.value = np.random.normal(1,0.1)\n",
    "        bkg_model.spectral_model.tilt.value = np.random.normal(0,0.05)\n",
    "        \n",
    "    # A faint diffuse background\n",
    "    #diffuse_spec = PowerLawSpectralModel()\n",
    "    #diffuse_spec.index.value = 2.7\n",
    "    #diffuse_spec.amplitude.value = 1e-13\n",
    "    #diffuse_spat = GaussianSpatialModel()\n",
    "    #diffuse_spat = GaussianSpatialModel(frame=\"galactic\")\n",
    "    #diffuse_spat.sigma.value = 1.0\n",
    "    #diffuse_spat.e.value = 0.99999\n",
    "    #diffuse_spat.phi.value = 90\n",
    "    #diffuse_model = SkyModel(spectral_model=diffuse_spec,\n",
    "    #                         spatial_model=diffuse_spat,\n",
    "    #                         name=\"diffuse\")\n",
    "        \n",
    "    dataset.models =  Models([bkg_model, model])\n",
    "    dataset.fake()\n",
    "    # -- like an observation\n",
    "    \n",
    "    dataset.models = Models([bkg_model]) #  background + diffuse\n",
    "    fit = Fit(optimize_opts={\"print_level\": 1})\n",
    "    result = fit.run(datasets=dataset)\n",
    "    L0 = result.total_stat\n",
    "    print(L0)\n",
    "   \n",
    "    dataset.models = Models([bkg_model, model])\n",
    "    fit = Fit(optimize_opts={\"print_level\": 1})\n",
    "    result = fit.run(datasets=dataset)\n",
    "    L1 = result.total_stat\n",
    "    print(L1)\n",
    "    return L0-L1, result, dataset"
   ]
  },
  {
   "cell_type": "code",
   "execution_count": 14,
   "id": "471e7be8",
   "metadata": {},
   "outputs": [
    {
     "name": "stdout",
     "output_type": "stream",
     "text": [
      "616887.0939635878\n",
      "615919.1439667037\n",
      "614099.1575843475\n",
      "613698.651909096\n",
      "614754.6440342499\n",
      "614537.2860748653\n",
      "617852.3247376428\n",
      "617707.8831025383\n",
      "617124.4168611494\n",
      "W VariableMetricBuilder Reached machine accuracy limit; Edm 0.000377965 is smaller than machine limit 0.0367789 while 0.0002 was requested\n",
      "617048.3666420823\n"
     ]
    }
   ],
   "source": [
    "models=[]\n",
    "TS = []\n",
    "datasets = []\n",
    "for i in range(len(list_model)):\n",
    "    delt, mod, ds = fit_dataset(list_model[i],vary_bkg=False) \n",
    "    models.append(mod)\n",
    "    TS.append(delt)\n",
    "    datasets.append(ds)"
   ]
  },
  {
   "cell_type": "code",
   "execution_count": 15,
   "id": "797adae0",
   "metadata": {},
   "outputs": [
    {
     "name": "stdout",
     "output_type": "stream",
     "text": [
      "  type      name      value         unit      ...    max     frozen is_norm link\n",
      "-------- --------- ----------- -------------- ... ---------- ------ ------- ----\n",
      "spectral      norm  1.0007e+00                ...        nan  False    True     \n",
      "spectral      tilt  0.0000e+00                ...        nan   True   False     \n",
      "spectral reference  1.0000e+00            TeV ...        nan   True   False     \n",
      "spectral     index  1.9319e+00                ...        nan  False   False     \n",
      "spectral amplitude  9.6213e-13 cm-2 s-1 TeV-1 ...        nan  False    True     \n",
      "spectral reference  1.0000e+00            TeV ...        nan   True   False     \n",
      " spatial     lon_0  4.0225e-01            deg ...  9.000e-01  False   False     \n",
      " spatial     lat_0 -5.9848e-01            deg ... -1.000e-01  False   False     \n",
      " spatial     sigma  9.3668e-02            deg ...        nan  False   False     \n",
      " spatial         e  0.0000e+00                ...  1.000e+00   True   False     \n",
      " spatial       phi  0.0000e+00            deg ...        nan   True   False     \n",
      "  type      name      value         unit      ...    max     frozen is_norm link\n",
      "-------- --------- ----------- -------------- ... ---------- ------ ------- ----\n",
      "spectral      norm  9.9998e-01                ...        nan  False    True     \n",
      "spectral      tilt  0.0000e+00                ...        nan   True   False     \n",
      "spectral reference  1.0000e+00            TeV ...        nan   True   False     \n",
      "spectral     index  1.7719e+00                ...        nan  False   False     \n",
      "spectral amplitude  8.6340e-13 cm-2 s-1 TeV-1 ...        nan  False    True     \n",
      "spectral reference  1.0000e+00            TeV ...        nan   True   False     \n",
      " spatial     lon_0  3.7413e-01            deg ...  9.000e-01  False   False     \n",
      " spatial     lat_0 -6.1158e-01            deg ... -1.000e-01  False   False     \n",
      " spatial     sigma  2.0535e-01            deg ...        nan  False   False     \n",
      " spatial         e  0.0000e+00                ...  1.000e+00   True   False     \n",
      " spatial       phi  0.0000e+00            deg ...        nan   True   False     \n",
      "  type      name      value         unit      ...    max     frozen is_norm link\n",
      "-------- --------- ----------- -------------- ... ---------- ------ ------- ----\n",
      "spectral      norm  1.0001e+00                ...        nan  False    True     \n",
      "spectral      tilt  0.0000e+00                ...        nan   True   False     \n",
      "spectral reference  1.0000e+00            TeV ...        nan   True   False     \n",
      "spectral     index  1.8089e+00                ...        nan  False   False     \n",
      "spectral amplitude  8.5564e-13 cm-2 s-1 TeV-1 ...        nan  False    True     \n",
      "spectral reference  1.0000e+00            TeV ...        nan   True   False     \n",
      " spatial     lon_0  3.7617e-01            deg ...  9.000e-01  False   False     \n",
      " spatial     lat_0 -5.8794e-01            deg ... -1.000e-01  False   False     \n",
      " spatial     sigma  2.8875e-01            deg ...        nan  False   False     \n",
      " spatial         e  0.0000e+00                ...  1.000e+00   True   False     \n",
      " spatial       phi  0.0000e+00            deg ...        nan   True   False     \n",
      "  type      name      value         unit      ...    max     frozen is_norm link\n",
      "-------- --------- ----------- -------------- ... ---------- ------ ------- ----\n",
      "spectral      norm  9.9803e-01                ...        nan  False    True     \n",
      "spectral      tilt  0.0000e+00                ...        nan   True   False     \n",
      "spectral reference  1.0000e+00            TeV ...        nan   True   False     \n",
      "spectral     index  1.9783e+00                ...        nan  False   False     \n",
      "spectral amplitude  1.0746e-12 cm-2 s-1 TeV-1 ...        nan  False    True     \n",
      "spectral reference  1.0000e+00            TeV ...        nan   True   False     \n",
      " spatial     lon_0  4.6248e-01            deg ...  9.000e-01  False   False     \n",
      " spatial     lat_0 -5.4132e-01            deg ... -1.000e-01  False   False     \n",
      " spatial     sigma  3.8713e-01            deg ...        nan  False   False     \n",
      " spatial         e  0.0000e+00                ...  1.000e+00   True   False     \n",
      " spatial       phi  0.0000e+00            deg ...        nan   True   False     \n",
      "  type      name      value         unit      ...    max     frozen is_norm link\n",
      "-------- --------- ----------- -------------- ... ---------- ------ ------- ----\n",
      "spectral      norm  1.0005e+00                ...        nan  False    True     \n",
      "spectral      tilt  0.0000e+00                ...        nan   True   False     \n",
      "spectral reference  1.0000e+00            TeV ...        nan   True   False     \n",
      "spectral     index  2.0003e+00                ...        nan  False   False     \n",
      "spectral amplitude  8.6427e-13 cm-2 s-1 TeV-1 ...        nan  False    True     \n",
      "spectral reference  1.0000e+00            TeV ...        nan   True   False     \n",
      " spatial     lon_0  3.6203e-01            deg ...  9.000e-01  False   False     \n",
      " spatial     lat_0 -5.5351e-01            deg ... -1.000e-01  False   False     \n",
      " spatial     sigma  4.2582e-01            deg ...        nan  False   False     \n",
      " spatial         e  0.0000e+00                ...  1.000e+00   True   False     \n",
      " spatial       phi  0.0000e+00            deg ...        nan   True   False     \n"
     ]
    }
   ],
   "source": [
    "for _ in models:\n",
    "    print(_.parameters.to_table())"
   ]
  },
  {
   "cell_type": "code",
   "execution_count": 16,
   "id": "56622ab8",
   "metadata": {},
   "outputs": [
    {
     "name": "stdout",
     "output_type": "stream",
     "text": [
      "[30.61540749 19.34662104 13.93639474 11.10724825  7.63082054]\n"
     ]
    }
   ],
   "source": [
    "def sigma_to_ts(sigma, df=1):\n",
    "    \"\"\"Convert sigma to delta ts\"\"\"\n",
    "    p_value = 2 * norm.sf(sigma)\n",
    "    return chi2.isf(p_value, df=df)\n",
    "\n",
    "def ts_to_sigma(ts, df=1):\n",
    "    \"\"\"Convert delta ts to sigma\"\"\"\n",
    "    p_value = chi2.sf(ts, df=df)\n",
    "    return norm.isf(0.5 * p_value)\n",
    "\n",
    "sigma=ts_to_sigma(TS,6)\n",
    "print(sigma)"
   ]
  },
  {
   "cell_type": "code",
   "execution_count": 69,
   "id": "d46a037c",
   "metadata": {},
   "outputs": [
    {
     "data": {
      "image/png": "[encoded data removed]",
      "text/plain": [
       "<Figure size 640x480 with 1 Axes>"
      ]
     },
     "metadata": {},
     "output_type": "display_data"
    }
   ],
   "source": [
    "simsize=[0.1, 0.2, 0.3, 0.4, 0.5]\n",
    "recsize=[9.3668e-02, 2.0535e-01, 2.8875e-01, 3.8713e-01, 4.2582e-01]\n",
    "ratio=[]\n",
    "for i in range(len(simsize)):\n",
    "    ratio.append(recsize[i]/simsize[i])\n",
    "plt.plot(simsize,ratio,'.',label='Reconstruction')\n",
    "plt.plot([0.1,0.5],[1,1],'-r',label='Ratio 1')\n",
    "plt.title('Ratio between the size of the model and the reconstruction')\n",
    "plt.xlabel('Simulated size (deg)')\n",
    "plt.ylabel('Reconstructed size/simulated size')\n",
    "plt.legend()\n",
    "plt.show()"
   ]
  },
  {
   "cell_type": "code",
   "execution_count": 72,
   "id": "01b4b6dd",
   "metadata": {
    "scrolled": false
   },
   "outputs": [
    {
     "data": {
      "image/png": "[encoded data removed]",
      "text/plain": [
       "<Figure size 640x480 with 1 Axes>"
      ]
     },
     "metadata": {},
     "output_type": "display_data"
    }
   ],
   "source": [
    "plt.plot(simsize,sigma,'.')\n",
    "plt.title('Significance of the reconstructions')\n",
    "plt.xlabel('Simulated size (deg)')\n",
    "plt.ylabel(r'Significance (n of $\\sigma$)')\n",
    "plt.show()"
   ]
  },
  {
   "cell_type": "code",
   "execution_count": 73,
   "id": "3b31ca99",
   "metadata": {},
   "outputs": [
    {
     "data": {
      "image/png": "[encoded data removed]",
      "text/plain": [
       "<Figure size 640x480 with 1 Axes>"
      ]
     },
     "metadata": {},
     "output_type": "display_data"
    }
   ],
   "source": [
    "amprecon=[9.6213e-13, 8.6340e-13, 8.5564e-13, 1.0746e-12, 8.6427e-13]\n",
    "plt.plot(simsize,amprecon,'.',label='Reconstruction')\n",
    "plt.plot([0.1,0.5],[1e-12,1e-12],'-r',label='Theoretical amplitude')\n",
    "plt.title('Spectral amplitude of the reconstructions')\n",
    "plt.xlabel('Simulated size (deg)')\n",
    "plt.ylabel('Amplitude of the source')\n",
    "plt.legend()\n",
    "plt.show()"
   ]
  },
  {
   "cell_type": "code",
   "execution_count": null,
   "id": "674b2396",
   "metadata": {},
   "outputs": [],
   "source": []
  }
 ],
 "metadata": {
  "kernelspec": {
   "display_name": "Python 3 (ipykernel)",
   "language": "python",
   "name": "python3"
  },
  "language_info": {
   "codemirror_mode": {
    "name": "ipython",
    "version": 3
   },
   "file_extension": ".py",
   "mimetype": "text/x-python",
   "name": "python",
   "nbconvert_exporter": "python",
   "pygments_lexer": "ipython3",
   "version": "3.8.16"
  }
 },
 "nbformat": 4,
 "nbformat_minor": 5
}
