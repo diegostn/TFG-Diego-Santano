{
 "cells": [
  {
   "cell_type": "code",
   "execution_count": 1,
   "id": "58898fa4",
   "metadata": {},
   "outputs": [],
   "source": [
    "%matplotlib inline"
   ]
  },
  {
   "cell_type": "code",
   "execution_count": 2,
   "id": "5c42db0e",
   "metadata": {},
   "outputs": [],
   "source": [
    "import numpy as np\n",
    "import astropy.units as u\n",
    "from astropy.coordinates import SkyCoord\n",
    "from gammapy.irf import load_cta_irfs\n",
    "from gammapy.maps import WcsGeom, MapAxis\n",
    "from gammapy.modeling.models import (\n",
    "    PowerLawSpectralModel,\n",
    "    GaussianSpatialModel,\n",
    "    SkyModel,\n",
    "    Models,\n",
    "    FoVBackgroundModel,\n",
    ")\n",
    "from gammapy.makers import MapDatasetMaker, SafeMaskMaker\n",
    "from gammapy.modeling import Fit\n",
    "from gammapy.datasets import Datasets, MapDataset\n",
    "from gammapy.data import Observation, observatory_locations\n",
    "from regions import CircleSkyRegion\n",
    "from scipy.stats import chi2, norm\n",
    "\n",
    "import matplotlib.pyplot as plt\n",
    "from IPython.display import display\n",
    "from gammapy.analysis import Analysis, AnalysisConfig\n",
    "from gammapy.estimators import ExcessMapEstimator\n",
    "from gammapy.modeling import Fit\n",
    "from gammapy.catalog import CATALOG_REGISTRY, SourceCatalogHGPS"
   ]
  },
  {
   "cell_type": "code",
   "execution_count": 3,
   "id": "561175dd",
   "metadata": {},
   "outputs": [
    {
     "name": "stdout",
     "output_type": "stream",
     "text": [
      "\n",
      "Gammapy package:\n",
      "\n",
      "\tversion                : 0.20.1     \n",
      "\tpath                   : D:\\Documents\\Miniconda\\envs\\gammapy-0.20.1\\lib\\site-packages\\gammapy \n",
      "\n"
     ]
    }
   ],
   "source": [
    "!gammapy info --no-envvar --no-dependencies --no-system"
   ]
  },
  {
   "cell_type": "code",
   "execution_count": 4,
   "id": "3f10ea25",
   "metadata": {},
   "outputs": [
    {
     "name": "stdout",
     "output_type": "stream",
     "text": [
      "Registry\n",
      "--------\n",
      "\n",
      "SourceCatalogGammaCat: gamma-cat \n",
      "SourceCatalogHGPS    : hgps \n",
      "SourceCatalog2HWC    : 2hwc \n",
      "SourceCatalog3FGL    : 3fgl \n",
      "SourceCatalog4FGL    : 4fgl \n",
      "SourceCatalog2FHL    : 2fhl \n",
      "SourceCatalog3FHL    : 3fhl \n",
      "SourceCatalog3HWC    : 3hwc \n",
      "\n",
      "SkyModel\n",
      "\n",
      "  Name                      : HESS J1018-589 B\n",
      "  Datasets names            : None\n",
      "  Spectral model type       : PowerLawSpectralModel\n",
      "  Spatial  model type       : GaussianSpatialModel\n",
      "  Temporal model type       : \n",
      "  Parameters:\n",
      "    index                         :      2.196   +/-    0.09             \n",
      "    amplitude                     :   9.15e-14   +/- 1.1e-14 1 / (cm2 s TeV)\n",
      "    reference             (frozen):      2.742       TeV         \n",
      "    lon_0                         :    284.223   +/-    0.04 deg         \n",
      "    lat_0                         :     -1.772   +/-    0.03 deg         \n",
      "    sigma                         :      0.150   +/-    0.03 deg         \n",
      "    e                     (frozen):      0.000                   \n",
      "    phi                   (frozen):      0.000       deg         \n",
      "\n",
      "\n"
     ]
    }
   ],
   "source": [
    "print(CATALOG_REGISTRY)\n",
    "catalog=SourceCatalogHGPS()\n",
    "source = catalog[3]\n",
    "\n",
    "model = source.sky_model()\n",
    "print(model)"
   ]
  },
  {
   "cell_type": "code",
   "execution_count": 5,
   "id": "d5e0a15d",
   "metadata": {},
   "outputs": [
    {
     "name": "stderr",
     "output_type": "stream",
     "text": [
      "Invalid unit found in background table! Assuming (s-1 MeV-1 sr-1)\n"
     ]
    }
   ],
   "source": [
    "# Loading IRFs\n",
    "irfs = load_cta_irfs(\n",
    "    \"$GAMMAPY_DATA/cta-1dc/caldb/data/cta/1dc/bcf/South_z20_50h/irf_file.fits\"\n",
    ")"
   ]
  },
  {
   "cell_type": "code",
   "execution_count": 6,
   "id": "5b518f44",
   "metadata": {},
   "outputs": [],
   "source": [
    "# Define the observation parameters (typically the observation duration and the pointing position):\n",
    "livetime = 6.0 * u.hr\n",
    "pointing = SkyCoord(283, 0, unit=\"deg\", frame=\"galactic\")"
   ]
  },
  {
   "cell_type": "code",
   "execution_count": 7,
   "id": "5dd9700d",
   "metadata": {},
   "outputs": [],
   "source": [
    "# Define map geometry for binned simulation\n",
    "energy_reco = MapAxis.from_edges(\n",
    "    np.logspace(-1.0, 1.0, 10), unit=\"TeV\", name=\"energy\", interp=\"log\"\n",
    ")\n",
    "geom = WcsGeom.create(\n",
    "    skydir=(283, 0),\n",
    "    binsz=0.02,\n",
    "    width=(6, 6),\n",
    "    frame=\"galactic\",\n",
    "    axes=[energy_reco],\n",
    ")\n",
    "# It is usually useful to have a separate binning for the true energy axis\n",
    "energy_true = MapAxis.from_edges(\n",
    "    np.logspace(-1.5, 1.5, 30), unit=\"TeV\", name=\"energy_true\", interp=\"log\"\n",
    ")\n",
    "\n",
    "empty = MapDataset.create(\n",
    "    geom, name=\"dataset-simu\", energy_axis_true=energy_true\n",
    ")"
   ]
  },
  {
   "cell_type": "code",
   "execution_count": 8,
   "id": "de390056",
   "metadata": {},
   "outputs": [
    {
     "name": "stdout",
     "output_type": "stream",
     "text": [
      "Observation\n",
      "\n",
      "\tobs id            : 0 \n",
      " \ttstart            : 51544.00\n",
      "\ttstop             : 51544.25\n",
      "\tduration          : 21600.00 s\n",
      "\tpointing (icrs)   : 154.4 deg, -56.8 deg\n",
      "\n",
      "\tdeadtime fraction : 0.0%\n",
      "\n"
     ]
    }
   ],
   "source": [
    "# Create an in-memory observation\n",
    "location = observatory_locations[\"cta_south\"]\n",
    "obs = Observation.create(\n",
    "    pointing=pointing, livetime=livetime, irfs=irfs, location=location\n",
    ")\n",
    "print(obs)"
   ]
  },
  {
   "cell_type": "code",
   "execution_count": 9,
   "id": "e52a51ab",
   "metadata": {},
   "outputs": [],
   "source": [
    "# Make the MapDataset\n",
    "maker = MapDatasetMaker(selection=[\"exposure\", \"background\", \"psf\", \"edisp\"])\n",
    "\n",
    "maker_safe_mask = SafeMaskMaker(methods=[\"offset-max\"], offset_max=4.0 * u.deg)"
   ]
  },
  {
   "cell_type": "code",
   "execution_count": 10,
   "id": "a1d0b76d",
   "metadata": {},
   "outputs": [],
   "source": [
    "def simulate_range(model,radlist):\n",
    "    list_model=[]\n",
    "    model.parameters[\"lon_0\"].min=280\n",
    "    model.parameters[\"lon_0\"].max=286\n",
    "    model.parameters[\"lat_0\"].min=-3\n",
    "    model.parameters[\"lat_0\"].max=3\n",
    "    for i in range(len(radlist)):\n",
    "        list_model.append(model.copy())\n",
    "        list_model[i].parameters[\"sigma\"].value=radlist[i]\n",
    "    return list_model"
   ]
  },
  {
   "cell_type": "code",
   "execution_count": 11,
   "id": "6a460747",
   "metadata": {},
   "outputs": [],
   "source": [
    "size=[0.1, 0.3, 0.5, 0.7, 0.9]"
   ]
  },
  {
   "cell_type": "code",
   "execution_count": 12,
   "id": "bb873d6d",
   "metadata": {},
   "outputs": [],
   "source": [
    "def fit_dataset(model,vary_bkg=False):\n",
    "    \n",
    "    dataset = maker.run(empty, obs)\n",
    "    dataset = maker_safe_mask.run(dataset, obs)\n",
    " \n",
    "    bkg_model = FoVBackgroundModel(dataset_name=\"dataset-simu\")\n",
    "    if vary_bkg==True:\n",
    "        bkg_model.spectral_model.norm.value = np.random.normal(1,0.1)\n",
    "        bkg_model.spectral_model.tilt.value = np.random.normal(0,0.05)\n",
    "        \n",
    "    # A faint diffuse background\n",
    "    #diffuse_spec = PowerLawSpectralModel()\n",
    "    #diffuse_spec.index.value = 2.7\n",
    "    #diffuse_spec.amplitude.value = 1e-13\n",
    "    #diffuse_spat = GaussianSpatialModel()\n",
    "    #diffuse_spat = GaussianSpatialModel(frame=\"galactic\")\n",
    "    #diffuse_spat.sigma.value = 1.0\n",
    "    #diffuse_spat.e.value = 0.99999\n",
    "    #diffuse_spat.phi.value = 90\n",
    "    #diffuse_model = SkyModel(spectral_model=diffuse_spec,\n",
    "    #                         spatial_model=diffuse_spat,\n",
    "    #                         name=\"diffuse\")\n",
    "        \n",
    "    dataset.models =  Models([bkg_model, model])\n",
    "    dataset.fake()\n",
    "    # -- like an observation\n",
    "    \n",
    "    dataset.models = Models([bkg_model]) #  background + diffuse\n",
    "    fit = Fit(optimize_opts={\"print_level\": 1})\n",
    "    result = fit.run(datasets=dataset)\n",
    "    L0 = result.total_stat\n",
    "    print(L0)\n",
    "   \n",
    "    dataset.models = Models([bkg_model, model])\n",
    "    fit = Fit(optimize_opts={\"print_level\": 1})\n",
    "    result = fit.run(datasets=dataset)\n",
    "    L1 = result.total_stat\n",
    "    print(L1)\n",
    "    return L0-L1, result, dataset"
   ]
  },
  {
   "cell_type": "code",
   "execution_count": 13,
   "id": "61424419",
   "metadata": {},
   "outputs": [],
   "source": [
    "sigma=[]\n",
    "simsize=[]\n",
    "recsize=[]\n",
    "recsizeerr=[]\n",
    "amprecon=[]\n",
    "ampreconerr=[]"
   ]
  },
  {
   "cell_type": "code",
   "execution_count": 55,
   "id": "471e7be8",
   "metadata": {
    "scrolled": true
   },
   "outputs": [
    {
     "name": "stdout",
     "output_type": "stream",
     "text": [
      "609041.2236139533\n",
      "608647.0064764974\n",
      "629129.4877878819\n",
      "629010.9958719974\n",
      "659359.5385025595\n",
      "W DavidonErrorUpdator delgam < 0 : first derivatives increasing along search line\n",
      "W VariableMetricBuilder Matrix not pos.def, gdel = 0.000371693 > 0\n",
      "W MnPosDef Matrix forced pos-def by adding to diagonal 3.03614\n",
      "W VariableMetricBuilder gdel = -0.000933504\n",
      "W VariableMetricBuilder No improvement in line search\n",
      "W VariableMetricBuilder Machine accuracy limits further improvement\n",
      "659331.0412557647\n",
      "621776.0455954075\n",
      "W VariableMetricBuilder Reached machine accuracy limit; Edm 0.00131777 is smaller than machine limit 0.0370597 while 0.0002 was requested\n",
      "621758.6222920594\n",
      "663406.0633439164\n",
      "W DavidonErrorUpdator delgam < 0 : first derivatives increasing along search line\n",
      "W VariableMetricBuilder Matrix not pos.def, gdel = 68.4034 > 0\n",
      "W MnPosDef non-positive diagonal element in covariance matrix[ 5 ] = -2.57827\n",
      "W MnPosDef Added to diagonal of Error matrix a value 3.07827\n",
      "W MnPosDef Matrix forced pos-def by adding to diagonal 0.303514\n",
      "W VariableMetricBuilder gdel = -14782.4\n",
      "W VariableMetricBuilder No improvement in line search\n",
      "W VariableMetricBuilder Iterations finish without convergence; Edm 1253.13 Requested 0.0002\n",
      "W MnPosDef Matrix forced pos-def by adding to diagonal 37.3663\n",
      "W VariableMetricBuilder No improvement in line search\n",
      "W VariableMetricBuilder Machine accuracy limits further improvement\n",
      "W VariableMetricBuilder No improvement in line search\n",
      "W VariableMetricBuilder Machine accuracy limits further improvement\n",
      "W VariableMetricBuilder Reached machine accuracy limit; Edm 0.000426427 is smaller than machine limit 0.0395413 while 0.0002 was requested\n",
      "663392.684996169\n"
     ]
    }
   ],
   "source": [
    "models=[]\n",
    "TS = []\n",
    "datasets = []\n",
    "list_model=simulate_range(model,size)\n",
    "for i in range(len(list_model)):\n",
    "    delt, mod, ds = fit_dataset(list_model[i],vary_bkg=True) \n",
    "    models.append(mod)\n",
    "    TS.append(delt)\n",
    "    datasets.append(ds)"
   ]
  },
  {
   "cell_type": "code",
   "execution_count": 56,
   "id": "797adae0",
   "metadata": {},
   "outputs": [
    {
     "name": "stdout",
     "output_type": "stream",
     "text": [
      "  type      name      value         unit      ...    max    frozen is_norm link\n",
      "-------- --------- ----------- -------------- ... --------- ------ ------- ----\n",
      "spectral      norm  9.7006e-01                ...       nan  False    True     \n",
      "spectral      tilt  1.3350e-02                ...       nan   True   False     \n",
      "spectral reference  1.0000e+00            TeV ...       nan   True   False     \n",
      "spectral     index  2.2322e+00                ...       nan  False   False     \n",
      "spectral amplitude  7.3276e-14 cm-2 s-1 TeV-1 ...       nan  False    True     \n",
      "spectral reference  2.7416e+00            TeV ...       nan   True   False     \n",
      " spatial     lon_0  2.8422e+02            deg ... 2.860e+02  False   False     \n",
      " spatial     lat_0 -1.7720e+00            deg ... 3.000e+00  False   False     \n",
      " spatial     sigma  8.7905e-02            deg ...       nan  False   False     \n",
      " spatial         e  0.0000e+00                ... 1.000e+00   True   False     \n",
      " spatial       phi  0.0000e+00            deg ...       nan   True   False     \n",
      "  type      name      value         unit      ...    max    frozen is_norm link\n",
      "-------- --------- ----------- -------------- ... --------- ------ ------- ----\n",
      "spectral      norm  9.2935e-01                ...       nan  False    True     \n",
      "spectral      tilt  8.6766e-03                ...       nan   True   False     \n",
      "spectral reference  1.0000e+00            TeV ...       nan   True   False     \n",
      "spectral     index  2.1229e+00                ...       nan  False   False     \n",
      "spectral amplitude  9.7790e-14 cm-2 s-1 TeV-1 ...       nan  False    True     \n",
      "spectral reference  2.7416e+00            TeV ...       nan   True   False     \n",
      " spatial     lon_0  2.8424e+02            deg ... 2.860e+02  False   False     \n",
      " spatial     lat_0 -1.8068e+00            deg ... 3.000e+00  False   False     \n",
      " spatial     sigma  2.7047e-01            deg ...       nan  False   False     \n",
      " spatial         e  0.0000e+00                ... 1.000e+00   True   False     \n",
      " spatial       phi  0.0000e+00            deg ...       nan   True   False     \n",
      "  type      name      value         unit      ...    max    frozen is_norm link\n",
      "-------- --------- ----------- -------------- ... --------- ------ ------- ----\n",
      "spectral      norm  8.5826e-01                ...       nan  False    True     \n",
      "spectral      tilt -8.1654e-03                ...       nan   True   False     \n",
      "spectral reference  1.0000e+00            TeV ...       nan   True   False     \n",
      "spectral     index  2.1867e+00                ...       nan  False   False     \n",
      "spectral amplitude  9.2143e-14 cm-2 s-1 TeV-1 ...       nan  False    True     \n",
      "spectral reference  2.7416e+00            TeV ...       nan   True   False     \n",
      " spatial     lon_0  2.8414e+02            deg ... 2.860e+02  False   False     \n",
      " spatial     lat_0 -2.0375e+00            deg ... 3.000e+00  False   False     \n",
      " spatial     sigma  5.5610e-01            deg ...       nan  False   False     \n",
      " spatial         e  0.0000e+00                ... 1.000e+00   True   False     \n",
      " spatial       phi  0.0000e+00            deg ...       nan   True   False     \n",
      "  type      name      value         unit      ...    max    frozen is_norm link\n",
      "-------- --------- ----------- -------------- ... --------- ------ ------- ----\n",
      "spectral      norm  9.3461e-01                ...       nan  False    True     \n",
      "spectral      tilt  1.4482e-02                ...       nan   True   False     \n",
      "spectral reference  1.0000e+00            TeV ...       nan   True   False     \n",
      "spectral     index  2.1064e+00                ...       nan  False   False     \n",
      "spectral amplitude  1.4373e-13 cm-2 s-1 TeV-1 ...       nan  False    True     \n",
      "spectral reference  2.7416e+00            TeV ...       nan   True   False     \n",
      " spatial     lon_0  2.8395e+02            deg ... 2.860e+02  False   False     \n",
      " spatial     lat_0 -1.3451e+00            deg ... 3.000e+00  False   False     \n",
      " spatial     sigma  1.0907e+00            deg ...       nan  False   False     \n",
      " spatial         e  0.0000e+00                ... 1.000e+00   True   False     \n",
      " spatial       phi  0.0000e+00            deg ...       nan   True   False     \n",
      "  type      name      value         unit      ...    max    frozen is_norm link\n",
      "-------- --------- ----------- -------------- ... --------- ------ ------- ----\n",
      "spectral      norm  1.1506e+00                ...       nan  False    True     \n",
      "spectral      tilt -8.0564e-02                ...       nan   True   False     \n",
      "spectral reference  1.0000e+00            TeV ...       nan   True   False     \n",
      "spectral     index  2.1518e+00                ...       nan  False   False     \n",
      "spectral amplitude  6.6469e-14 cm-2 s-1 TeV-1 ...       nan  False    True     \n",
      "spectral reference  2.7416e+00            TeV ...       nan   True   False     \n",
      " spatial     lon_0  2.8432e+02            deg ... 2.860e+02  False   False     \n",
      " spatial     lat_0 -1.9490e+00            deg ... 3.000e+00  False   False     \n",
      " spatial     sigma  4.9488e-01            deg ...       nan  False   False     \n",
      " spatial         e  0.0000e+00                ... 1.000e+00   True   False     \n",
      " spatial       phi  0.0000e+00            deg ...       nan   True   False     \n"
     ]
    }
   ],
   "source": [
    "for _ in models:\n",
    "    print(_.parameters.to_table())"
   ]
  },
  {
   "cell_type": "code",
   "execution_count": 57,
   "id": "56622ab8",
   "metadata": {},
   "outputs": [
    {
     "name": "stdout",
     "output_type": "stream",
     "text": [
      "[21.85348737647503, 9.827030774762498, 4.0741299296349816, 3.5872978157827484, 3.1817587614585823, 20.726365925654488, 6.771843575197062, 5.859849426499171, 3.5881758126545353, 1.9733099562126475, 18.749332070874953, 9.799707757106216, 4.356623864023246, 5.01115245585429, 0.0, 20.200173455268796, 7.86117319709517, 4.382237128518858, 4.123676049980744, 0.8301642863253037, 19.185484934792544, 9.92084822004648, 3.9575654453181084, 2.6585747649676468, 2.0813041022143652]\n"
     ]
    }
   ],
   "source": [
    "def sigma_to_ts(sigma, df=1):\n",
    "    \"\"\"Convert sigma to delta ts\"\"\"\n",
    "    p_value = 2 * norm.sf(sigma)\n",
    "    return chi2.isf(p_value, df=df)\n",
    "\n",
    "def ts_to_sigma(ts, df=1):\n",
    "    \"\"\"Convert delta ts to sigma\"\"\"\n",
    "    p_value = chi2.sf(ts, df=df)\n",
    "    return norm.isf(0.5 * p_value)\n",
    "for i in range(len(TS)):\n",
    "    sigma.append(ts_to_sigma(TS[i],6))\n",
    "print(sigma)"
   ]
  },
  {
   "cell_type": "code",
   "execution_count": 58,
   "id": "d46a037c",
   "metadata": {},
   "outputs": [],
   "source": [
    "for i in range(len(size)):   \n",
    "    simsize.append(size[i])\n",
    "for _ in models:\n",
    "    recsize.append(_.models[1].parameters[\"sigma\"].value)\n",
    "    recsizeerr.append(_.models[1].parameters[\"sigma\"].error)\n",
    "    amprecon.append(_.models[1].parameters[\"amplitude\"].value)\n",
    "    ampreconerr.append(_.models[1].parameters[\"amplitude\"].error)\n",
    "ratio=[]\n",
    "ratioerr=[]\n",
    "for i in range(len(simsize)):\n",
    "    ratio.append(recsize[i]/simsize[i])\n",
    "    ratioerr.append(recsizeerr[i]/simsize[i])\n"
   ]
  },
  {
   "cell_type": "code",
   "execution_count": 59,
   "id": "01b4b6dd",
   "metadata": {
    "scrolled": false
   },
   "outputs": [
    {
     "data": {
      "image/png": "[encoded data removed]",
      "text/plain": [
       "<Figure size 640x480 with 1 Axes>"
      ]
     },
     "metadata": {},
     "output_type": "display_data"
    }
   ],
   "source": [
    "plt.plot(simsize,sigma,'.',label=\"Significances\")\n",
    "plt.plot([0.1,0.9],[5,5],\"-r\",label=r\"5$\\sigma$ frontier\")\n",
    "plt.title('Significance of the reconstructions')\n",
    "plt.xlabel('Simulated size (deg)')\n",
    "plt.ylabel(r'Significance (n of $\\sigma$)')\n",
    "plt.legend()\n",
    "plt.show()"
   ]
  },
  {
   "cell_type": "code",
   "execution_count": 60,
   "id": "a076a5a6",
   "metadata": {},
   "outputs": [
    {
     "data": {
      "text/plain": [
       "[1.0321344196469253,\n",
       " 1.1051273889164939,\n",
       " 0.8402206364949341,\n",
       " 0.9844666313629679,\n",
       " 2.6214185569393513,\n",
       " 0.9865680344044305,\n",
       " 0.8198420747969014,\n",
       " 0.8455006573211975,\n",
       " 0.5636186193828691,\n",
       " 1.371733879195767,\n",
       " 0.8930385089122395,\n",
       " 0.937655845362026,\n",
       " 0.8560665048183117,\n",
       " 1.47605577627138,\n",
       " 1.0828364766349698,\n",
       " 1.0532331506102137,\n",
       " 1.0440947385802928,\n",
       " 0.970515527017549,\n",
       " 0.756839181267055,\n",
       " 0.2482040714751345,\n",
       " 0.8790492240788955,\n",
       " 0.9015737057104299,\n",
       " 1.11220943489819,\n",
       " 1.5581665475352269,\n",
       " 0.5498706626491537]"
      ]
     },
     "execution_count": 60,
     "metadata": {},
     "output_type": "execute_result"
    }
   ],
   "source": [
    "ratio"
   ]
  },
  {
   "cell_type": "code",
   "execution_count": 61,
   "id": "770a559d",
   "metadata": {},
   "outputs": [
    {
     "data": {
      "text/plain": [
       "[21.85348737647503,\n",
       " 9.827030774762498,\n",
       " 4.0741299296349816,\n",
       " 3.5872978157827484,\n",
       " 3.1817587614585823,\n",
       " 20.726365925654488,\n",
       " 6.771843575197062,\n",
       " 5.859849426499171,\n",
       " 3.5881758126545353,\n",
       " 1.9733099562126475,\n",
       " 18.749332070874953,\n",
       " 9.799707757106216,\n",
       " 4.356623864023246,\n",
       " 5.01115245585429,\n",
       " 0.0,\n",
       " 20.200173455268796,\n",
       " 7.86117319709517,\n",
       " 4.382237128518858,\n",
       " 4.123676049980744,\n",
       " 0.8301642863253037,\n",
       " 19.185484934792544,\n",
       " 9.92084822004648,\n",
       " 3.9575654453181084,\n",
       " 2.6585747649676468,\n",
       " 2.0813041022143652]"
      ]
     },
     "execution_count": 61,
     "metadata": {},
     "output_type": "execute_result"
    }
   ],
   "source": [
    "sigma"
   ]
  },
  {
   "cell_type": "code",
   "execution_count": 62,
   "id": "ea905105",
   "metadata": {},
   "outputs": [
    {
     "data": {
      "text/plain": [
       "[8.204259171819276e-15,\n",
       " 1.6917784409502167e-14,\n",
       " 1.9119784184775375e-14,\n",
       " 4.008658338172141e-14,\n",
       " 1.9829780693124785e-14,\n",
       " 7.55414690234668e-15,\n",
       " 1.4025551701044012e-14,\n",
       " 2.074509128778579e-14,\n",
       " 2.062871656801223e-14,\n",
       " 7.442855008825515e-13,\n",
       " 7.59976686279494e-15,\n",
       " 1.4847933611453248e-14,\n",
       " 2.6195099685112418e-14,\n",
       " 6.998197071567026e-14,\n",
       " 3.071057940848736e-13,\n",
       " 8.180626674233353e-15,\n",
       " 1.706853842130328e-14,\n",
       " 2.6610918150230458e-14,\n",
       " 3.650937919292216e-14,\n",
       " 1.405066028017436e-14,\n",
       " 7.48520345619724e-15,\n",
       " 1.3470659450216458e-14,\n",
       " 2.6436059281261532e-14,\n",
       " 7.195323785479648e-14,\n",
       " 4.222932556508628e-14]"
      ]
     },
     "execution_count": 62,
     "metadata": {},
     "output_type": "execute_result"
    }
   ],
   "source": [
    "ampreconerr"
   ]
  },
  {
   "cell_type": "code",
   "execution_count": 63,
   "id": "d7ef68ec",
   "metadata": {},
   "outputs": [
    {
     "data": {
      "image/png": "[encoded data removed]",
      "text/plain": [
       "<Figure size 640x480 with 1 Axes>"
      ]
     },
     "metadata": {},
     "output_type": "display_data"
    }
   ],
   "source": [
    "theoamp=model.parameters[\"amplitude\"].value\n",
    "plt.yscale('log')\n",
    "plt.errorbar(simsize,amprecon,yerr=ampreconerr,fmt='.',label='Reconstruction')\n",
    "plt.plot([0.1,0.9],[theoamp,theoamp],'-r',label='Theoretical amplitude')\n",
    "plt.ylim(1e-14,1e-12)\n",
    "plt.title('Spectral amplitude of the reconstructions (log scale)')\n",
    "plt.xlabel('Simulated size (deg)')\n",
    "plt.ylabel('Amplitude of the source '+r'($cm^{-2} s^{-1} TeV^{-1}$)')\n",
    "plt.legend()\n",
    "plt.show()"
   ]
  },
  {
   "cell_type": "code",
   "execution_count": 64,
   "id": "e82ace2d",
   "metadata": {},
   "outputs": [
    {
     "data": {
      "image/png": "[encoded data removed]",
      "text/plain": [
       "<Figure size 640x480 with 1 Axes>"
      ]
     },
     "metadata": {},
     "output_type": "display_data"
    }
   ],
   "source": [
    "plt.yscale('log')\n",
    "plt.errorbar(simsize,ratio,yerr=ratioerr,fmt='.',label='Reconstruction')\n",
    "plt.plot([0.1,0.9],[1,1],'-r',label='Ratio 1')\n",
    "plt.ylim(0.1,10)\n",
    "plt.title('Ratio between the size of the model and the reconstruction (log scale)')\n",
    "plt.xlabel('Simulated size (deg)')\n",
    "plt.ylabel('Reconstructed size/simulated size')\n",
    "plt.legend()\n",
    "plt.show()"
   ]
  },
  {
   "cell_type": "code",
   "execution_count": null,
   "id": "5354c2d7",
   "metadata": {},
   "outputs": [],
   "source": []
  }
 ],
 "metadata": {
  "kernelspec": {
   "display_name": "Python 3 (ipykernel)",
   "language": "python",
   "name": "python3"
  },
  "language_info": {
   "codemirror_mode": {
    "name": "ipython",
    "version": 3
   },
   "file_extension": ".py",
   "mimetype": "text/x-python",
   "name": "python",
   "nbconvert_exporter": "python",
   "pygments_lexer": "ipython3",
   "version": "3.8.16"
  }
 },
 "nbformat": 4,
 "nbformat_minor": 5
}
